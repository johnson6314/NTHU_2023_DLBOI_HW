{
  "cells": [
    {
      "cell_type": "markdown",
      "metadata": {
        "id": "Li0bVCTuxc6n"
      },
      "source": [
        "<div align=\"center\">\n",
        "\n",
        "# National Tsing Hua University\n",
        "\n",
        "### Fall 2023\n",
        "\n",
        "#### 11210IPT 553000\n",
        "\n",
        "#### Deep Learning in Biomedical Optical Imaging\n",
        "\n",
        "## Lab 3: Hyperparameter Tuning\n",
        "\n",
        "</div>\n"
      ]
    },
    {
      "cell_type": "code",
      "execution_count": 90,
      "metadata": {
        "id": "mGJcRwdzM7pS",
        "colab": {
          "base_uri": "https://localhost:8080/"
        },
        "outputId": "9dc48a6e-7e9e-4bfb-cbb1-d547dfe2ddc4"
      },
      "outputs": [
        {
          "output_type": "stream",
          "name": "stdout",
          "text": [
            "--2023-10-16 07:13:58--  https://raw.githubusercontent.com/TacoXDD/homeworks/master/dataset/train/normal.npy\n",
            "Resolving raw.githubusercontent.com (raw.githubusercontent.com)... 185.199.109.133, 185.199.108.133, 185.199.110.133, ...\n",
            "Connecting to raw.githubusercontent.com (raw.githubusercontent.com)|185.199.109.133|:443... connected.\n",
            "HTTP request sent, awaiting response... 200 OK\n",
            "Length: 65536128 (62M) [application/octet-stream]\n",
            "Saving to: ‘normal.npy.1’\n",
            "\n",
            "normal.npy.1        100%[===================>]  62.50M   313MB/s    in 0.2s    \n",
            "\n",
            "2023-10-16 07:13:58 (313 MB/s) - ‘normal.npy.1’ saved [65536128/65536128]\n",
            "\n",
            "--2023-10-16 07:13:58--  https://raw.githubusercontent.com/TacoXDD/homeworks/master/dataset/train/pneumonia.npy\n",
            "Resolving raw.githubusercontent.com (raw.githubusercontent.com)... 185.199.108.133, 185.199.109.133, 185.199.110.133, ...\n",
            "Connecting to raw.githubusercontent.com (raw.githubusercontent.com)|185.199.108.133|:443... connected.\n",
            "HTTP request sent, awaiting response... 200 OK\n",
            "Length: 65536128 (62M) [application/octet-stream]\n",
            "Saving to: ‘pneumonia.npy.1’\n",
            "\n",
            "pneumonia.npy.1     100%[===================>]  62.50M   301MB/s    in 0.2s    \n",
            "\n",
            "2023-10-16 07:13:59 (301 MB/s) - ‘pneumonia.npy.1’ saved [65536128/65536128]\n",
            "\n"
          ]
        }
      ],
      "source": [
        "# Download dataset\n",
        "!wget https://raw.githubusercontent.com/TacoXDD/homeworks/master/dataset/train/normal.npy\n",
        "!wget https://raw.githubusercontent.com/TacoXDD/homeworks/master/dataset/train/pneumonia.npy"
      ]
    },
    {
      "cell_type": "markdown",
      "metadata": {
        "id": "w-1PsC--M7pT"
      },
      "source": [
        "## A. Data Loading and Preprocessing"
      ]
    },
    {
      "cell_type": "code",
      "execution_count": 91,
      "metadata": {
        "id": "oScQ0GG6xc6r",
        "colab": {
          "base_uri": "https://localhost:8080/"
        },
        "outputId": "d1b0ad59-c050-4e49-bd41-d1dc5bad08bd"
      },
      "outputs": [
        {
          "output_type": "stream",
          "name": "stdout",
          "text": [
            "Shape of abnormal_scans: (1000, 256, 256)\n",
            "Shape of normal_scans: (1000, 256, 256)\n",
            "Shape of x_train: (1600, 256, 256)\n",
            "Shape of y_train: (1600,)\n",
            "Number of samples in train and validation are 1600 and 400.\n",
            "X_train: max value is 255.0, min value is 0.0, data type is torch.float32.\n",
            "Y_train: max value is 1, min value is 0, data type is torch.int64.\n",
            "x_val: max value is 255.0, min value is 0.0, data type is torch.float32.\n",
            "y_val: max value is 1, min value is 0, data type is torch.int64.\n"
          ]
        }
      ],
      "source": [
        "import torch\n",
        "from torch.utils.data import DataLoader, TensorDataset, random_split\n",
        "\n",
        "import numpy as np\n",
        "\n",
        "# Load Dataset\n",
        "abnormal_scans = np.load('pneumonia.npy')\n",
        "normal_scans = np.load('normal.npy')\n",
        "\n",
        "print(f'Shape of abnormal_scans: {abnormal_scans.shape}')\n",
        "print(f'Shape of normal_scans: {normal_scans.shape}')\n",
        "\n",
        "# For the data having presence of pneumonia assign 1, for the normal ones assign 0.\n",
        "\n",
        "abnormal_labels = np.ones((abnormal_scans.shape[0],))\n",
        "normal_labels = np.zeros((normal_scans.shape[0],))\n",
        "\n",
        "split_point = 800\n",
        "\n",
        "x_train = np.concatenate((abnormal_scans[:split_point], normal_scans[:split_point]), axis=0)\n",
        "y_train = np.concatenate((abnormal_labels[:split_point], normal_labels[:split_point]), axis=0)\n",
        "print(f'Shape of x_train: {x_train.shape}')\n",
        "print(f'Shape of y_train: {y_train.shape}')\n",
        "\n",
        "x_val = np.concatenate((abnormal_scans[split_point:], normal_scans[split_point:]), axis=0)\n",
        "y_val = np.concatenate((abnormal_labels[split_point:], normal_labels[split_point:]), axis=0)\n",
        "\n",
        "# Convert to PyTorch tensors\n",
        "x_train = torch.from_numpy(x_train).float()\n",
        "y_train = torch.from_numpy(y_train).long()\n",
        "x_val = torch.from_numpy(x_val).float()\n",
        "y_val = torch.from_numpy(y_val).long()\n",
        "\n",
        "# Create datasets\n",
        "train_dataset = TensorDataset(x_train, y_train)\n",
        "val_dataset = TensorDataset(x_val, y_val)\n",
        "\n",
        "# Create dataloaders\n",
        "train_loader = DataLoader(train_dataset, batch_size=128, shuffle=True)\n",
        "val_loader = DataLoader(val_dataset, batch_size=128, shuffle=False)\n",
        "\n",
        "print(f'Number of samples in train and validation are {len(train_loader.dataset)} and {len(val_loader.dataset)}.')\n",
        "print(f'X_train: max value is {x_train.max().item()}, min value is {x_train.min().item()}, data type is {x_train.dtype}.')\n",
        "print(f'Y_train: max value is {y_train.max().item()}, min value is {y_train.min().item()}, data type is {y_train.dtype}.')\n",
        "print(f'x_val: max value is {x_val.max().item()}, min value is {x_val.min().item()}, data type is {x_val.dtype}.')\n",
        "print(f'y_val: max value is {y_val.max().item()}, min value is {y_val.min().item()}, data type is {y_val.dtype}.')"
      ]
    },
    {
      "cell_type": "markdown",
      "metadata": {
        "id": "oaLGtT28xc6s"
      },
      "source": [
        "## B. Defining Neural Networks in PyTorch"
      ]
    },
    {
      "cell_type": "code",
      "execution_count": 92,
      "metadata": {
        "id": "JZP0t5kOxc6s",
        "colab": {
          "base_uri": "https://localhost:8080/"
        },
        "outputId": "9744dac7-29c0-4901-fcc0-f1dfe2d8b6fd"
      },
      "outputs": [
        {
          "output_type": "stream",
          "name": "stdout",
          "text": [
            "Sequential(\n",
            "  (0): Flatten(start_dim=1, end_dim=-1)\n",
            "  (1): Linear(in_features=65536, out_features=128, bias=True)\n",
            "  (2): BatchNorm1d(128, eps=1e-05, momentum=0.1, affine=True, track_running_stats=True)\n",
            "  (3): LeakyReLU(negative_slope=0.01)\n",
            "  (4): Dropout(p=0, inplace=False)\n",
            "  (5): Linear(in_features=128, out_features=128, bias=True)\n",
            "  (6): BatchNorm1d(128, eps=1e-05, momentum=0.1, affine=True, track_running_stats=True)\n",
            "  (7): LeakyReLU(negative_slope=0.01)\n",
            "  (8): Dropout(p=0, inplace=False)\n",
            "  (9): Linear(in_features=128, out_features=128, bias=True)\n",
            "  (10): BatchNorm1d(128, eps=1e-05, momentum=0.1, affine=True, track_running_stats=True)\n",
            "  (11): LeakyReLU(negative_slope=0.01)\n",
            "  (12): Dropout(p=0, inplace=False)\n",
            "  (13): Linear(in_features=128, out_features=2, bias=True)\n",
            ")\n"
          ]
        }
      ],
      "source": [
        "import torch.nn as nn\n",
        "\n",
        "# Model in Lab 2\n",
        "# model = nn.Sequential(\n",
        "#     nn.Flatten(),\n",
        "#     nn.Linear(256*256*1, 256),\n",
        "#     nn.ReLU(),\n",
        "#     nn.Linear(256, 1)\n",
        "# ).cuda()\n",
        "\n",
        "\n",
        "# # BCE\n",
        "# model = nn.Sequential(\n",
        "#     nn.Flatten(),\n",
        "\n",
        "#     nn.Linear(256*256*1, 128),\n",
        "#     nn.BatchNorm1d(128),\n",
        "#     nn.LeakyReLU(),\n",
        "#     nn.Dropout(0.5),\n",
        "\n",
        "#     nn.Linear(128, 128),\n",
        "#     nn.BatchNorm1d(128),\n",
        "#     nn.LeakyReLU(),\n",
        "#     nn.Dropout(0.5),\n",
        "\n",
        "#     nn.Linear(128, 128),\n",
        "#     nn.BatchNorm1d(128),\n",
        "#     nn.LeakyReLU(),\n",
        "#     nn.Dropout(0.5),\n",
        "\n",
        "#     nn.Linear(128, 1)\n",
        "# ).cuda()\n",
        "\n",
        "# print(model)\n",
        "\n",
        "# CE\n",
        "model = nn.Sequential(\n",
        "    nn.Flatten(),\n",
        "\n",
        "    nn.Linear(256*256*1, 128),\n",
        "    nn.BatchNorm1d(128),\n",
        "    nn.LeakyReLU(),\n",
        "    nn.Dropout(0),\n",
        "\n",
        "    nn.Linear(128, 128),\n",
        "    nn.BatchNorm1d(128),\n",
        "    nn.LeakyReLU(),\n",
        "    nn.Dropout(0),\n",
        "\n",
        "    nn.Linear(128, 128),\n",
        "    nn.BatchNorm1d(128),\n",
        "    nn.LeakyReLU(),\n",
        "    nn.Dropout(0),\n",
        "\n",
        "    nn.Linear(128, 2)\n",
        "    #nn.Linear(32, 1)     # 1 revise to n\n",
        ").cuda()\n",
        "\n",
        "print(model)\n"
      ]
    },
    {
      "cell_type": "markdown",
      "metadata": {
        "id": "nvLTU-IfZLqn"
      },
      "source": [
        "## C. Training the Neural Network"
      ]
    },
    {
      "cell_type": "code",
      "execution_count": 93,
      "metadata": {
        "id": "45ol4lpVxc6t",
        "colab": {
          "base_uri": "https://localhost:8080/"
        },
        "outputId": "c1f2c5e0-de82-4336-984f-5a906ee12076"
      },
      "outputs": [
        {
          "output_type": "stream",
          "name": "stdout",
          "text": [
            "Epoch 1/30, Train Loss: 0.2964, Train Accuracy: 87.75%, Val Loss: 1.0726, Val Accuracy: 57.00%\n",
            "Epoch 2/30, Train Loss: 0.1477, Train Accuracy: 94.81%, Val Loss: 0.2271, Val Accuracy: 91.75%\n",
            "Epoch 3/30, Train Loss: 0.0948, Train Accuracy: 97.06%, Val Loss: 0.1961, Val Accuracy: 90.00%\n",
            "Epoch 4/30, Train Loss: 0.0726, Train Accuracy: 97.19%, Val Loss: 0.1702, Val Accuracy: 94.25%\n",
            "Epoch 5/30, Train Loss: 0.0483, Train Accuracy: 98.44%, Val Loss: 0.1662, Val Accuracy: 94.00%\n",
            "Epoch 6/30, Train Loss: 0.0325, Train Accuracy: 99.12%, Val Loss: 0.1700, Val Accuracy: 94.50%\n",
            "Epoch 7/30, Train Loss: 0.0220, Train Accuracy: 99.75%, Val Loss: 0.3251, Val Accuracy: 90.00%\n",
            "Epoch 8/30, Train Loss: 0.0205, Train Accuracy: 99.44%, Val Loss: 0.2675, Val Accuracy: 92.75%\n",
            "Epoch 9/30, Train Loss: 0.0290, Train Accuracy: 99.06%, Val Loss: 0.4532, Val Accuracy: 88.75%\n",
            "Epoch 10/30, Train Loss: 0.0148, Train Accuracy: 99.62%, Val Loss: 0.2347, Val Accuracy: 92.75%\n",
            "Epoch 11/30, Train Loss: 0.0080, Train Accuracy: 99.88%, Val Loss: 0.1981, Val Accuracy: 94.00%\n",
            "Epoch 12/30, Train Loss: 0.0067, Train Accuracy: 99.94%, Val Loss: 0.1901, Val Accuracy: 94.75%\n",
            "Epoch 13/30, Train Loss: 0.0057, Train Accuracy: 99.94%, Val Loss: 0.1962, Val Accuracy: 94.75%\n",
            "Epoch 14/30, Train Loss: 0.0172, Train Accuracy: 99.69%, Val Loss: 0.2040, Val Accuracy: 94.50%\n",
            "Epoch 15/30, Train Loss: 0.0058, Train Accuracy: 100.00%, Val Loss: 0.2271, Val Accuracy: 94.25%\n",
            "Epoch 16/30, Train Loss: 0.0059, Train Accuracy: 99.94%, Val Loss: 0.2003, Val Accuracy: 95.00%\n",
            "Epoch 17/30, Train Loss: 0.0045, Train Accuracy: 100.00%, Val Loss: 0.2011, Val Accuracy: 94.50%\n",
            "Epoch 18/30, Train Loss: 0.0042, Train Accuracy: 100.00%, Val Loss: 0.1896, Val Accuracy: 94.50%\n",
            "Epoch 19/30, Train Loss: 0.0042, Train Accuracy: 100.00%, Val Loss: 0.1930, Val Accuracy: 94.50%\n",
            "Epoch 20/30, Train Loss: 0.0042, Train Accuracy: 100.00%, Val Loss: 0.1930, Val Accuracy: 94.75%\n",
            "Epoch 21/30, Train Loss: 0.0032, Train Accuracy: 100.00%, Val Loss: 0.1973, Val Accuracy: 94.50%\n",
            "Epoch 22/30, Train Loss: 0.0030, Train Accuracy: 100.00%, Val Loss: 0.1958, Val Accuracy: 94.75%\n",
            "Epoch 23/30, Train Loss: 0.0037, Train Accuracy: 100.00%, Val Loss: 0.1957, Val Accuracy: 94.75%\n",
            "Epoch 24/30, Train Loss: 0.0034, Train Accuracy: 100.00%, Val Loss: 0.1960, Val Accuracy: 94.75%\n",
            "Epoch 25/30, Train Loss: 0.0038, Train Accuracy: 100.00%, Val Loss: 0.1965, Val Accuracy: 94.75%\n",
            "Epoch 26/30, Train Loss: 0.0032, Train Accuracy: 100.00%, Val Loss: 0.1972, Val Accuracy: 94.50%\n",
            "Epoch 27/30, Train Loss: 0.0038, Train Accuracy: 100.00%, Val Loss: 0.1961, Val Accuracy: 94.75%\n",
            "Epoch 28/30, Train Loss: 0.0041, Train Accuracy: 100.00%, Val Loss: 0.1985, Val Accuracy: 94.50%\n",
            "Epoch 29/30, Train Loss: 0.0033, Train Accuracy: 100.00%, Val Loss: 0.1962, Val Accuracy: 94.75%\n",
            "Epoch 30/30, Train Loss: 0.0039, Train Accuracy: 100.00%, Val Loss: 0.1992, Val Accuracy: 94.50%\n"
          ]
        }
      ],
      "source": [
        "# # BCE\n",
        "# import torch.optim as optim\n",
        "# from torch.optim.lr_scheduler import CosineAnnealingLR, StepLR\n",
        "\n",
        "# train_losses = []\n",
        "# val_losses = []\n",
        "# train_accuracies = []\n",
        "# val_accuracies = []\n",
        "\n",
        "# epochs = 30\n",
        "# best_val_loss = float('inf')\n",
        "\n",
        "# # Criterion and Optimizer\n",
        "# criterion = nn.BCEWithLogitsLoss()\n",
        "# optimizer = optim.Adam(model.parameters(), lr=1e-3)\n",
        "# # lr_scheduler = CosineAnnealingLR(optimizer, T_max=len(train_loader)*epochs, eta_min=0)\n",
        "# lr_scheduler = StepLR(optimizer, step_size=10, gamma=0.1)\n",
        "\n",
        "# for epoch in range(epochs):\n",
        "#     # Training\n",
        "#     model.train()\n",
        "#     total_loss = 0.0\n",
        "#     train_correct = 0\n",
        "#     total_train_samples = 0\n",
        "\n",
        "#     for images, labels in train_loader:\n",
        "#         images = images.cuda()\n",
        "#         images = images / 255.\n",
        "#         labels = labels.cuda()\n",
        "#         optimizer.zero_grad()\n",
        "#         outputs = model(images)\n",
        "\n",
        "#         labels = labels.float().unsqueeze(1)\n",
        "\n",
        "#         loss = criterion(outputs, labels)\n",
        "#         loss.backward()\n",
        "#         optimizer.step()\n",
        "#         total_loss += loss.item()\n",
        "\n",
        "#         train_predicted = torch.sigmoid(outputs) > 0.5\n",
        "#         train_correct += (train_predicted.float() == labels).sum().item()\n",
        "#         total_train_samples += labels.size(0)\n",
        "\n",
        "#     avg_train_loss = total_loss / len(train_loader)\n",
        "#     train_accuracy = 100. * train_correct / total_train_samples\n",
        "\n",
        "#     # Validation\n",
        "#     model.eval()\n",
        "#     total_val_loss = 0.0\n",
        "#     correct = 0\n",
        "#     total = 0\n",
        "#     with torch.no_grad():\n",
        "#         for images, labels in val_loader:\n",
        "#             images = images.cuda()\n",
        "#             images = images / 255.\n",
        "#             labels = labels.cuda()\n",
        "#             outputs = model(images)\n",
        "\n",
        "#             labels = labels.float().unsqueeze(1)\n",
        "\n",
        "#             loss = criterion(outputs, labels)\n",
        "#             total_val_loss += loss.item()\n",
        "\n",
        "#             predicted = torch.sigmoid(outputs) > 0.5\n",
        "#             correct += (predicted.float() == labels).sum().item()\n",
        "#             total += labels.size(0)\n",
        "\n",
        "#     avg_val_loss = total_val_loss / len(val_loader)\n",
        "#     val_accuracy = 100. * correct / total\n",
        "\n",
        "#     print(f'Epoch {epoch+1}/{epochs}, Train Loss: {avg_train_loss:.4f}, Train Accuracy: {train_accuracy:.2f}%, Val Loss: {avg_val_loss:.4f}, Val Accuracy: {val_accuracy:.2f}%')\n",
        "\n",
        "#     # Learning rate update\n",
        "#     lr_scheduler.step()\n",
        "\n",
        "#     # Checkpoint\n",
        "#     if avg_val_loss < best_val_loss:\n",
        "#         best_val_loss = avg_val_loss\n",
        "#         torch.save(model.state_dict(), 'model_classification.pth')\n",
        "\n",
        "#     # Store performance\n",
        "#     train_losses.append(avg_train_loss)\n",
        "#     train_accuracies.append(train_accuracy)\n",
        "#     val_losses.append(avg_val_loss)\n",
        "#     val_accuracies.append(val_accuracy)\n",
        "\n",
        "\n",
        "# CE\n",
        "import torch.optim as optim\n",
        "from torch.optim.lr_scheduler import CosineAnnealingLR, StepLR\n",
        "\n",
        "train_losses = []\n",
        "val_losses = []\n",
        "train_accuracies = []\n",
        "val_accuracies = []\n",
        "\n",
        "epochs = 30\n",
        "best_val_loss = float('inf')\n",
        "\n",
        "# Criterion and Optimizer\n",
        "criterion = nn.CrossEntropyLoss()   #revise BCE to CE\n",
        "optimizer = optim.Adam(model.parameters(), lr=1e-3)\n",
        "#lr_scheduler = CosineAnnealingLR(optimizer, T_max=len(train_loader)*epochs, eta_min=0)\n",
        "lr_scheduler = StepLR(optimizer, step_size=10, gamma=0.1)\n",
        "\n",
        "for epoch in range(epochs):\n",
        "    # Training\n",
        "    model.train()\n",
        "    total_loss = 0.0\n",
        "    train_correct = 0\n",
        "    total_train_samples = 0\n",
        "\n",
        "    for images, labels in train_loader:\n",
        "        images = images.cuda()\n",
        "        images = images / 255.0\n",
        "        labels = labels.cuda()\n",
        "        optimizer.zero_grad()\n",
        "        outputs = model(images)\n",
        "\n",
        "        #labels = labels.float().unsqueeze(1)\n",
        "        labels = labels.long() # Changed from labels.float().unsqueeze(1) for BCE loss\n",
        "\n",
        "        loss = criterion(outputs, labels)\n",
        "        loss.backward()\n",
        "        optimizer.step()\n",
        "        total_loss += loss.item()\n",
        "\n",
        "        #train_predicted = torch.sigmoid(outputs) > 0.5  #revise BCE to CE\n",
        "        train_predicted = outputs.argmax(-1)  # Changed from torch.sigmoid(outputs) > 0.5 for BCE loss\n",
        "        train_correct += (train_predicted.float() == labels).sum().item()\n",
        "        total_train_samples += labels.size(0)\n",
        "\n",
        "    avg_train_loss = total_loss / len(train_loader)\n",
        "    train_accuracy = 100. * train_correct / total_train_samples\n",
        "\n",
        "    # Validation\n",
        "    model.eval()\n",
        "    total_val_loss = 0.0\n",
        "    correct = 0\n",
        "    total = 0\n",
        "    with torch.no_grad():\n",
        "        for images, labels in val_loader:\n",
        "            images = images.cuda()\n",
        "            images = images / 255.\n",
        "            labels = labels.cuda()\n",
        "            outputs = model(images)\n",
        "\n",
        "            #labels = labels.float().unsqueeze(1)\n",
        "            labels = labels.long() # Changed from labels.float().unsqueeze(1) for BCE loss\n",
        "\n",
        "            loss = criterion(outputs, labels)\n",
        "            total_val_loss += loss.item()\n",
        "\n",
        "            #predicted = torch.sigmoid(outputs) > 0.5   # BCE to CE\n",
        "            predicted = outputs.argmax(-1)  # Changed from torch.sigmoid(outputs) > 0.5 for BCE loss\n",
        "            correct += (predicted.float() == labels).sum().item()\n",
        "            total += labels.size(0)\n",
        "\n",
        "    avg_val_loss = total_val_loss / len(val_loader)\n",
        "    val_accuracy = 100. * correct / total\n",
        "\n",
        "    print(f'Epoch {epoch+1}/{epochs}, Train Loss: {avg_train_loss:.4f}, Train Accuracy: {train_accuracy:.2f}%, Val Loss: {avg_val_loss:.4f}, Val Accuracy: {val_accuracy:.2f}%')\n",
        "\n",
        "    # Learning rate update\n",
        "    lr_scheduler.step()\n",
        "\n",
        "    # Checkpoint\n",
        "    if avg_val_loss < best_val_loss:\n",
        "        best_val_loss = avg_val_loss\n",
        "        torch.save(model.state_dict(), 'model_classification.pth')\n",
        "\n",
        "    # Store performance\n",
        "    train_losses.append(avg_train_loss)\n",
        "    train_accuracies.append(train_accuracy)\n",
        "    val_losses.append(avg_val_loss)\n",
        "    val_accuracies.append(val_accuracy)"
      ]
    },
    {
      "cell_type": "markdown",
      "metadata": {
        "id": "pjmYxAJnxc6t"
      },
      "source": [
        "### Visualizing model performance"
      ]
    },
    {
      "cell_type": "code",
      "execution_count": 94,
      "metadata": {
        "id": "pHpS0Q7vxc6t",
        "colab": {
          "base_uri": "https://localhost:8080/",
          "height": 487
        },
        "outputId": "2ca4c4d3-53c7-4bfd-c928-236fe5b06fd5"
      },
      "outputs": [
        {
          "output_type": "display_data",
          "data": {
            "text/plain": [
              "<Figure size 1500x500 with 2 Axes>"
            ],
            "image/png": "[encoded data removed]"
          },
          "metadata": {}
        }
      ],
      "source": [
        "import matplotlib.pyplot as plt\n",
        "\n",
        "fig, ax = plt.subplots(1, 2, figsize=(15, 5))\n",
        "\n",
        "# Plotting training and validation accuracy\n",
        "ax[0].plot(train_accuracies)\n",
        "ax[0].plot(val_accuracies)\n",
        "ax[0].set_title('Model Accuracy')\n",
        "ax[0].set_xlabel('Epochs')\n",
        "ax[0].set_ylabel('Accuracy')\n",
        "ax[0].legend(['Train', 'Val'])\n",
        "\n",
        "# Plotting training and validation loss\n",
        "ax[1].plot(train_losses)\n",
        "ax[1].plot(val_losses)\n",
        "ax[1].set_title('Model Loss')\n",
        "ax[1].set_xlabel('Epochs')\n",
        "ax[1].set_ylabel('Loss')\n",
        "ax[1].legend(['Train', 'Val'])\n",
        "\n",
        "plt.show()"
      ]
    },
    {
      "cell_type": "code",
      "source": [
        "!wget https://raw.githubusercontent.com/TacoXDD/homeworks/master/dataset/test/test_normal.npy\n",
        "!wget https://raw.githubusercontent.com/TacoXDD/homeworks/master/dataset/test/test_pneumonia.npy\n",
        "\n",
        "import numpy as np\n",
        "\n",
        "test_abnormal = np.load('test_pneumonia.npy')\n",
        "test_normal = np.load('test_normal.npy')\n",
        "\n",
        "print(f'Shape of test_abnormal: {test_abnormal.shape}')\n",
        "print(f'Shape of test_normal: {test_normal.shape}')\n",
        "\n",
        "# For the data having presence of pneumonia assign 1, for the normal ones assign 0.\n",
        "test_abnormal_labels = np.ones((test_abnormal.shape[0],))\n",
        "test_normal_labels = np.zeros((test_normal.shape[0],))\n",
        "\n",
        "x_test = np.concatenate((test_abnormal, test_normal), axis=0)\n",
        "y_test = np.concatenate((test_abnormal_labels, test_normal_labels), axis=0)\n",
        "\n",
        "print(f'Shape of x_test: {x_test.shape}')\n",
        "print(f'Shape of y_test: {y_test.shape}')\n"
      ],
      "metadata": {
        "colab": {
          "base_uri": "https://localhost:8080/"
        },
        "id": "sfdEzpAFfG3J",
        "outputId": "fe4fbf89-0724-4a2b-95af-ed8ebfa8a16a"
      },
      "execution_count": 95,
      "outputs": [
        {
          "output_type": "stream",
          "name": "stdout",
          "text": [
            "--2023-10-16 07:14:18--  https://raw.githubusercontent.com/TacoXDD/homeworks/master/dataset/test/test_normal.npy\n",
            "Resolving raw.githubusercontent.com (raw.githubusercontent.com)... 185.199.109.133, 185.199.110.133, 185.199.111.133, ...\n",
            "Connecting to raw.githubusercontent.com (raw.githubusercontent.com)|185.199.109.133|:443... connected.\n",
            "HTTP request sent, awaiting response... 200 OK\n",
            "Length: 13107328 (12M) [application/octet-stream]\n",
            "Saving to: ‘test_normal.npy.1’\n",
            "\n",
            "test_normal.npy.1   100%[===================>]  12.50M  --.-KB/s    in 0.07s   \n",
            "\n",
            "2023-10-16 07:14:18 (180 MB/s) - ‘test_normal.npy.1’ saved [13107328/13107328]\n",
            "\n",
            "--2023-10-16 07:14:18--  https://raw.githubusercontent.com/TacoXDD/homeworks/master/dataset/test/test_pneumonia.npy\n",
            "Resolving raw.githubusercontent.com (raw.githubusercontent.com)... 185.199.109.133, 185.199.108.133, 185.199.110.133, ...\n",
            "Connecting to raw.githubusercontent.com (raw.githubusercontent.com)|185.199.109.133|:443... connected.\n",
            "HTTP request sent, awaiting response... 200 OK\n",
            "Length: 13107328 (12M) [application/octet-stream]\n",
            "Saving to: ‘test_pneumonia.npy.1’\n",
            "\n",
            "test_pneumonia.npy. 100%[===================>]  12.50M  --.-KB/s    in 0.08s   \n",
            "\n",
            "2023-10-16 07:14:18 (160 MB/s) - ‘test_pneumonia.npy.1’ saved [13107328/13107328]\n",
            "\n",
            "Shape of test_abnormal: (200, 256, 256)\n",
            "Shape of test_normal: (200, 256, 256)\n",
            "Shape of x_test: (400, 256, 256)\n",
            "Shape of y_test: (400,)\n"
          ]
        }
      ]
    },
    {
      "cell_type": "code",
      "source": [
        "import torch\n",
        "from torch.utils.data import DataLoader, TensorDataset, random_split\n",
        "\n",
        "# Convert to PyTorch tensors\n",
        "x_test = torch.Tensor(x_test).float()\n",
        "y_test = torch.Tensor(y_test).long()\n",
        "\n",
        "# Combine the images and labels into a dataset\n",
        "test_dataset = TensorDataset(x_test, y_test)\n",
        "\n",
        "# Create a dataloader to load data in batches. Set batch size to 32.\n",
        "test_loader = DataLoader(test_dataset, batch_size=32, shuffle=True)"
      ],
      "metadata": {
        "id": "eniyU3F7fI70"
      },
      "execution_count": 96,
      "outputs": []
    },
    {
      "cell_type": "markdown",
      "source": [],
      "metadata": {
        "id": "UTx-Rt9dVbUu"
      }
    },
    {
      "cell_type": "code",
      "source": [
        "# # BCE\n",
        "# # Declare the model architecture\n",
        "# model = nn.Sequential(\n",
        "#     nn.Flatten(),\n",
        "\n",
        "#     nn.Linear(256*256*1, 128),\n",
        "#     nn.BatchNorm1d(128),\n",
        "#     nn.LeakyReLU(),\n",
        "#     nn.Dropout(0.5),\n",
        "\n",
        "#     nn.Linear(128, 128),\n",
        "#     nn.BatchNorm1d(128),\n",
        "#     nn.LeakyReLU(),\n",
        "#     nn.Dropout(0.5),\n",
        "\n",
        "#     nn.Linear(128, 128),\n",
        "#     nn.BatchNorm1d(128),\n",
        "#     nn.LeakyReLU(),\n",
        "#     nn.Dropout(0.5),\n",
        "\n",
        "#     nn.Linear(128, 1)\n",
        "\n",
        "# ).cuda()\n",
        "\n",
        "\n",
        "# Load the trained weights\n",
        "model.load_state_dict(torch.load('model_classification.pth'))\n",
        "\n",
        "# Set the model\n",
        "model.eval()\n",
        "\n",
        "# CE\n",
        "# Declare the model architecture\n",
        "model = nn.Sequential(\n",
        "    nn.Flatten(),\n",
        "\n",
        "    nn.Linear(256*256*1, 128),\n",
        "    nn.BatchNorm1d(128),\n",
        "    nn.LeakyReLU(),\n",
        "    nn.Dropout(0),\n",
        "\n",
        "    nn.Linear(128, 128),\n",
        "    nn.BatchNorm1d(128),\n",
        "    nn.LeakyReLU(),\n",
        "    nn.Dropout(0),\n",
        "\n",
        "    nn.Linear(128, 128),\n",
        "    nn.BatchNorm1d(128),\n",
        "    nn.LeakyReLU(),\n",
        "    nn.Dropout(0),\n",
        "\n",
        "    nn.Linear(128, 2)\n",
        "\n",
        ").cuda()\n",
        "\n",
        "\n",
        "# Load the trained weights\n",
        "model.load_state_dict(torch.load('model_classification.pth'))\n",
        "\n",
        "# Set the model to evaluation mode\n",
        "model.eval()"
      ],
      "metadata": {
        "colab": {
          "base_uri": "https://localhost:8080/"
        },
        "id": "8YkRf--vfKxm",
        "outputId": "1b4e4614-7a9b-4225-8e77-0438a41d242c"
      },
      "execution_count": 97,
      "outputs": [
        {
          "output_type": "execute_result",
          "data": {
            "text/plain": [
              "Sequential(\n",
              "  (0): Flatten(start_dim=1, end_dim=-1)\n",
              "  (1): Linear(in_features=65536, out_features=128, bias=True)\n",
              "  (2): BatchNorm1d(128, eps=1e-05, momentum=0.1, affine=True, track_running_stats=True)\n",
              "  (3): LeakyReLU(negative_slope=0.01)\n",
              "  (4): Dropout(p=0, inplace=False)\n",
              "  (5): Linear(in_features=128, out_features=128, bias=True)\n",
              "  (6): BatchNorm1d(128, eps=1e-05, momentum=0.1, affine=True, track_running_stats=True)\n",
              "  (7): LeakyReLU(negative_slope=0.01)\n",
              "  (8): Dropout(p=0, inplace=False)\n",
              "  (9): Linear(in_features=128, out_features=128, bias=True)\n",
              "  (10): BatchNorm1d(128, eps=1e-05, momentum=0.1, affine=True, track_running_stats=True)\n",
              "  (11): LeakyReLU(negative_slope=0.01)\n",
              "  (12): Dropout(p=0, inplace=False)\n",
              "  (13): Linear(in_features=128, out_features=2, bias=True)\n",
              ")"
            ]
          },
          "metadata": {},
          "execution_count": 97
        }
      ]
    },
    {
      "cell_type": "code",
      "source": [
        "# # BCE\n",
        "# test_correct = 0\n",
        "# test_total = 0\n",
        "\n",
        "\n",
        "# with torch.no_grad():\n",
        "#     for images, labels in test_loader:\n",
        "\n",
        "#         images = images.cuda()\n",
        "#         images = images / 255.\n",
        "\n",
        "#         labels = labels.cuda()\n",
        "\n",
        "#         outputs = model(images)\n",
        "\n",
        "#         labels_float = labels.float().unsqueeze(1)  # Convert labels to float and match shape with outputs\n",
        "#         predicted = torch.sigmoid(outputs) > 0.5\n",
        "\n",
        "#         test_correct += (predicted.float() == labels_float).sum().item()\n",
        "#         test_total += labels.size(0)\n",
        "\n",
        "#         train_accuracy = 100. * test_correct / test_total\n",
        "\n",
        "# print(f'Test accuracy is {train_accuracy}%.')\n",
        "\n",
        "# CE\n",
        "test_correct = 0\n",
        "test_total = 0\n",
        "\n",
        "\n",
        "with torch.no_grad():\n",
        "    for images, labels in test_loader:\n",
        "\n",
        "        images = images.cuda()\n",
        "        images = images / 255.\n",
        "\n",
        "        labels = labels.cuda()\n",
        "\n",
        "        outputs = model(images)\n",
        "\n",
        "        #labels_float = labels.float().unsqueeze(1)  # Convert labels to float and match shape with outputs\n",
        "        labels = labels.long()\n",
        "\n",
        "        #predicted = torch.sigmoid(outputs) > 0.5\n",
        "        predicted = outputs.argmax(-1)\n",
        "        test_correct += (predicted.float() == labels).sum().item()\n",
        "        test_total += labels.size(0)\n",
        "        train_accuracy = 100. * test_correct / test_total\n",
        "\n",
        "print(f'Test accuracy is {train_accuracy}%.')\n"
      ],
      "metadata": {
        "colab": {
          "base_uri": "https://localhost:8080/"
        },
        "id": "J-DLMd-LfO9i",
        "outputId": "d6a837e5-c858-487c-d3ab-d6213c2556ba"
      },
      "execution_count": 98,
      "outputs": [
        {
          "output_type": "stream",
          "name": "stdout",
          "text": [
            "Test accuracy is 72.25%.\n"
          ]
        }
      ]
    },
    {
      "cell_type": "code",
      "source": [],
      "metadata": {
        "id": "5BtVYrP1Stx1"
      },
      "execution_count": null,
      "outputs": []
    }
  ],
  "metadata": {
    "accelerator": "GPU",
    "colab": {
      "gpuType": "T4",
      "provenance": []
    },
    "kernelspec": {
      "display_name": "Python 3",
      "name": "python3"
    },
    "language_info": {
      "codemirror_mode": {
        "name": "ipython",
        "version": 3
      },
      "file_extension": ".py",
      "mimetype": "text/x-python",
      "name": "python",
      "nbconvert_exporter": "python",
      "pygments_lexer": "ipython3",
      "version": "3.8.13"
    }
  },
  "nbformat": 4,
  "nbformat_minor": 0
}