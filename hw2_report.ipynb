{
  "cells": [
    {
      "cell_type": "markdown",
      "metadata": {
        "id": "view-in-github",
        "colab_type": "text"
      },
      "source": [
        "<a href=\"https://colab.research.google.com/github/johnson6314/NTHU_2023_DLBOI_HW/blob/main/hw2_report.ipynb\" target=\"_parent\"><img src=\"https://colab.research.google.com/assets/colab-badge.svg\" alt=\"Open In Colab\"/></a>"
      ]
    },
    {
      "cell_type": "markdown",
      "metadata": {
        "id": "Li0bVCTuxc6n"
      },
      "source": [
        "<div align=\"center\">\n",
        "\n",
        "# National Tsing Hua University\n",
        "\n",
        "### Fall 2023\n",
        "\n",
        "#### 11210IPT 553000\n",
        "\n",
        "#### Deep Learning in Biomedical Optical Imaging\n",
        "\n",
        "## Lab 3: Hyperparameter Tuning\n",
        "\n",
        "</div>\n"
      ]
    },
    {
      "cell_type": "code",
      "execution_count": 85,
      "metadata": {
        "id": "mGJcRwdzM7pS",
        "colab": {
          "base_uri": "https://localhost:8080/"
        },
        "outputId": "e093e8ca-9e35-469b-9171-19f0866dd7c7"
      },
      "outputs": [
        {
          "output_type": "stream",
          "name": "stdout",
          "text": [
            "--2023-10-15 13:54:34--  https://raw.githubusercontent.com/TacoXDD/homeworks/master/dataset/train/normal.npy\n",
            "Resolving raw.githubusercontent.com (raw.githubusercontent.com)... 185.199.108.133, 185.199.109.133, 185.199.110.133, ...\n",
            "Connecting to raw.githubusercontent.com (raw.githubusercontent.com)|185.199.108.133|:443... connected.\n",
            "HTTP request sent, awaiting response... 200 OK\n",
            "Length: 65536128 (62M) [application/octet-stream]\n",
            "Saving to: ‘normal.npy’\n",
            "\n",
            "normal.npy          100%[===================>]  62.50M   266MB/s    in 0.2s    \n",
            "\n",
            "2023-10-15 13:54:35 (266 MB/s) - ‘normal.npy’ saved [65536128/65536128]\n",
            "\n",
            "--2023-10-15 13:54:35--  https://raw.githubusercontent.com/TacoXDD/homeworks/master/dataset/train/pneumonia.npy\n",
            "Resolving raw.githubusercontent.com (raw.githubusercontent.com)... 185.199.108.133, 185.199.109.133, 185.199.110.133, ...\n",
            "Connecting to raw.githubusercontent.com (raw.githubusercontent.com)|185.199.108.133|:443... connected.\n",
            "HTTP request sent, awaiting response... 200 OK\n",
            "Length: 65536128 (62M) [application/octet-stream]\n",
            "Saving to: ‘pneumonia.npy’\n",
            "\n",
            "pneumonia.npy       100%[===================>]  62.50M   218MB/s    in 0.3s    \n",
            "\n",
            "2023-10-15 13:54:35 (218 MB/s) - ‘pneumonia.npy’ saved [65536128/65536128]\n",
            "\n"
          ]
        }
      ],
      "source": [
        "# Download dataset\n",
        "!wget https://raw.githubusercontent.com/TacoXDD/homeworks/master/dataset/train/normal.npy\n",
        "!wget https://raw.githubusercontent.com/TacoXDD/homeworks/master/dataset/train/pneumonia.npy"
      ]
    },
    {
      "cell_type": "markdown",
      "metadata": {
        "id": "w-1PsC--M7pT"
      },
      "source": [
        "## A. Data Loading and Preprocessing"
      ]
    },
    {
      "cell_type": "code",
      "execution_count": 110,
      "metadata": {
        "id": "oScQ0GG6xc6r",
        "colab": {
          "base_uri": "https://localhost:8080/"
        },
        "outputId": "4978dfa0-f2b2-403b-af51-616d3b6370b0"
      },
      "outputs": [
        {
          "output_type": "stream",
          "name": "stdout",
          "text": [
            "Shape of abnormal_scans: (1000, 256, 256)\n",
            "Shape of normal_scans: (1000, 256, 256)\n",
            "Shape of x_train: (1600, 256, 256)\n",
            "Shape of y_train: (1600,)\n",
            "Number of samples in train and validation are 1600 and 400.\n",
            "X_train: max value is 255.0, min value is 0.0, data type is torch.float32.\n",
            "Y_train: max value is 1, min value is 0, data type is torch.int64.\n",
            "x_val: max value is 255.0, min value is 0.0, data type is torch.float32.\n",
            "y_val: max value is 1, min value is 0, data type is torch.int64.\n"
          ]
        }
      ],
      "source": [
        "import torch\n",
        "from torch.utils.data import DataLoader, TensorDataset, random_split\n",
        "\n",
        "import numpy as np\n",
        "\n",
        "# Load Dataset\n",
        "abnormal_scans = np.load('pneumonia.npy')\n",
        "normal_scans = np.load('normal.npy')\n",
        "\n",
        "print(f'Shape of abnormal_scans: {abnormal_scans.shape}')\n",
        "print(f'Shape of normal_scans: {normal_scans.shape}')\n",
        "\n",
        "# For the data having presence of pneumonia assign 1, for the normal ones assign 0.\n",
        "\n",
        "abnormal_labels = np.ones((abnormal_scans.shape[0],))\n",
        "normal_labels = np.zeros((normal_scans.shape[0],))\n",
        "\n",
        "split_point = 800\n",
        "\n",
        "x_train = np.concatenate((abnormal_scans[:split_point], normal_scans[:split_point]), axis=0)\n",
        "y_train = np.concatenate((abnormal_labels[:split_point], normal_labels[:split_point]), axis=0)\n",
        "print(f'Shape of x_train: {x_train.shape}')\n",
        "print(f'Shape of y_train: {y_train.shape}')\n",
        "\n",
        "x_val = np.concatenate((abnormal_scans[split_point:], normal_scans[split_point:]), axis=0)\n",
        "y_val = np.concatenate((abnormal_labels[split_point:], normal_labels[split_point:]), axis=0)\n",
        "\n",
        "# Convert to PyTorch tensors\n",
        "x_train = torch.from_numpy(x_train).float()\n",
        "y_train = torch.from_numpy(y_train).long()\n",
        "x_val = torch.from_numpy(x_val).float()\n",
        "y_val = torch.from_numpy(y_val).long()\n",
        "\n",
        "# Create datasets\n",
        "train_dataset = TensorDataset(x_train, y_train)\n",
        "val_dataset = TensorDataset(x_val, y_val)\n",
        "\n",
        "# Create dataloaders\n",
        "train_loader = DataLoader(train_dataset, batch_size=32, shuffle=True)\n",
        "val_loader = DataLoader(val_dataset, batch_size=32, shuffle=False)\n",
        "\n",
        "print(f'Number of samples in train and validation are {len(train_loader.dataset)} and {len(val_loader.dataset)}.')\n",
        "print(f'X_train: max value is {x_train.max().item()}, min value is {x_train.min().item()}, data type is {x_train.dtype}.')\n",
        "print(f'Y_train: max value is {y_train.max().item()}, min value is {y_train.min().item()}, data type is {y_train.dtype}.')\n",
        "print(f'x_val: max value is {x_val.max().item()}, min value is {x_val.min().item()}, data type is {x_val.dtype}.')\n",
        "print(f'y_val: max value is {y_val.max().item()}, min value is {y_val.min().item()}, data type is {y_val.dtype}.')"
      ]
    },
    {
      "cell_type": "markdown",
      "metadata": {
        "id": "oaLGtT28xc6s"
      },
      "source": [
        "## B. Defining Neural Networks in PyTorch"
      ]
    },
    {
      "cell_type": "code",
      "execution_count": 111,
      "metadata": {
        "id": "JZP0t5kOxc6s",
        "colab": {
          "base_uri": "https://localhost:8080/"
        },
        "outputId": "93279d50-6972-428a-96d3-e056d5962bc0"
      },
      "outputs": [
        {
          "output_type": "stream",
          "name": "stdout",
          "text": [
            "Sequential(\n",
            "  (0): Flatten(start_dim=1, end_dim=-1)\n",
            "  (1): Linear(in_features=65536, out_features=128, bias=True)\n",
            "  (2): BatchNorm1d(128, eps=1e-05, momentum=0.1, affine=True, track_running_stats=True)\n",
            "  (3): LeakyReLU(negative_slope=0.01)\n",
            "  (4): Dropout(p=0.5, inplace=False)\n",
            "  (5): Linear(in_features=128, out_features=128, bias=True)\n",
            "  (6): BatchNorm1d(128, eps=1e-05, momentum=0.1, affine=True, track_running_stats=True)\n",
            "  (7): LeakyReLU(negative_slope=0.01)\n",
            "  (8): Dropout(p=0.5, inplace=False)\n",
            "  (9): Linear(in_features=128, out_features=128, bias=True)\n",
            "  (10): BatchNorm1d(128, eps=1e-05, momentum=0.1, affine=True, track_running_stats=True)\n",
            "  (11): LeakyReLU(negative_slope=0.01)\n",
            "  (12): Dropout(p=0.5, inplace=False)\n",
            "  (13): Linear(in_features=128, out_features=1, bias=True)\n",
            ")\n"
          ]
        }
      ],
      "source": [
        "import torch.nn as nn\n",
        "\n",
        "# # Model in Lab 2\n",
        "# # model = nn.Sequential(\n",
        "# #     nn.Flatten(),\n",
        "# #     nn.Linear(256*256*1, 256),\n",
        "# #     nn.ReLU(),\n",
        "# #     nn.Linear(256, 1)\n",
        "# # ).cuda()\n",
        "\n",
        "\n",
        "# BCE\n",
        "model = nn.Sequential(\n",
        "    nn.Flatten(),\n",
        "\n",
        "    nn.Linear(256*256*1, 128),\n",
        "    nn.BatchNorm1d(128),\n",
        "    nn.LeakyReLU(),\n",
        "    nn.Dropout(0.5),\n",
        "\n",
        "    nn.Linear(128, 128),\n",
        "    nn.BatchNorm1d(128),\n",
        "    nn.LeakyReLU(),\n",
        "    nn.Dropout(0.5),\n",
        "\n",
        "    nn.Linear(128, 128),\n",
        "    nn.BatchNorm1d(128),\n",
        "    nn.LeakyReLU(),\n",
        "    nn.Dropout(0.5),\n",
        "\n",
        "    nn.Linear(128, 1)\n",
        ").cuda()\n",
        "\n",
        "print(model)\n",
        "\n",
        "# # CE\n",
        "# model = nn.Sequential(\n",
        "#     nn.Flatten(),\n",
        "\n",
        "#     nn.Linear(256*256*1, 128),\n",
        "#     nn.BatchNorm1d(128),\n",
        "#     nn.LeakyReLU(),\n",
        "#     nn.Dropout(0),\n",
        "\n",
        "#     nn.Linear(128, 64),\n",
        "#     nn.BatchNorm1d(64),\n",
        "#     nn.LeakyReLU(),\n",
        "#     nn.Dropout(0),\n",
        "\n",
        "#     nn.Linear(64, 32),\n",
        "#     nn.BatchNorm1d(32),\n",
        "#     nn.Softmax(),\n",
        "#     nn.Dropout(0),\n",
        "\n",
        "#     nn.Linear(32, 2)\n",
        "#     #nn.Linear(32, 1)     # 1 revise to n\n",
        "# ).cuda()\n",
        "\n",
        "# print(model)\n"
      ]
    },
    {
      "cell_type": "markdown",
      "metadata": {
        "id": "nvLTU-IfZLqn"
      },
      "source": [
        "## C. Training the Neural Network"
      ]
    },
    {
      "cell_type": "code",
      "execution_count": 112,
      "metadata": {
        "id": "45ol4lpVxc6t",
        "colab": {
          "base_uri": "https://localhost:8080/"
        },
        "outputId": "45baaf10-2b4c-42e1-a606-b383d5e53366"
      },
      "outputs": [
        {
          "output_type": "stream",
          "name": "stdout",
          "text": [
            "Epoch 1/30, Train Loss: 0.4788, Train Accuracy: 78.38%, Val Loss: 0.2674, Val Accuracy: 88.25%\n",
            "Epoch 2/30, Train Loss: 0.2562, Train Accuracy: 90.69%, Val Loss: 0.4100, Val Accuracy: 81.50%\n",
            "Epoch 3/30, Train Loss: 0.1905, Train Accuracy: 93.19%, Val Loss: 0.1840, Val Accuracy: 92.75%\n",
            "Epoch 4/30, Train Loss: 0.1564, Train Accuracy: 94.00%, Val Loss: 0.1870, Val Accuracy: 93.00%\n",
            "Epoch 5/30, Train Loss: 0.1446, Train Accuracy: 94.50%, Val Loss: 0.1457, Val Accuracy: 94.50%\n",
            "Epoch 6/30, Train Loss: 0.1376, Train Accuracy: 94.81%, Val Loss: 0.2847, Val Accuracy: 88.00%\n",
            "Epoch 7/30, Train Loss: 0.1098, Train Accuracy: 96.19%, Val Loss: 0.4489, Val Accuracy: 82.75%\n",
            "Epoch 8/30, Train Loss: 0.1110, Train Accuracy: 96.06%, Val Loss: 0.2359, Val Accuracy: 91.75%\n",
            "Epoch 9/30, Train Loss: 0.1164, Train Accuracy: 95.94%, Val Loss: 0.1515, Val Accuracy: 94.50%\n",
            "Epoch 10/30, Train Loss: 0.0961, Train Accuracy: 96.62%, Val Loss: 0.1658, Val Accuracy: 94.25%\n",
            "Epoch 11/30, Train Loss: 0.0656, Train Accuracy: 97.62%, Val Loss: 0.1670, Val Accuracy: 93.75%\n",
            "Epoch 12/30, Train Loss: 0.0566, Train Accuracy: 98.50%, Val Loss: 0.1538, Val Accuracy: 94.25%\n",
            "Epoch 13/30, Train Loss: 0.0720, Train Accuracy: 97.44%, Val Loss: 0.1496, Val Accuracy: 94.75%\n",
            "Epoch 14/30, Train Loss: 0.0661, Train Accuracy: 97.62%, Val Loss: 0.1400, Val Accuracy: 95.50%\n",
            "Epoch 15/30, Train Loss: 0.0690, Train Accuracy: 97.69%, Val Loss: 0.1399, Val Accuracy: 95.50%\n",
            "Epoch 16/30, Train Loss: 0.0569, Train Accuracy: 98.00%, Val Loss: 0.1439, Val Accuracy: 95.00%\n",
            "Epoch 17/30, Train Loss: 0.0634, Train Accuracy: 98.06%, Val Loss: 0.1501, Val Accuracy: 94.50%\n",
            "Epoch 18/30, Train Loss: 0.0487, Train Accuracy: 98.50%, Val Loss: 0.1497, Val Accuracy: 94.75%\n",
            "Epoch 19/30, Train Loss: 0.0422, Train Accuracy: 98.69%, Val Loss: 0.1360, Val Accuracy: 95.75%\n",
            "Epoch 20/30, Train Loss: 0.0636, Train Accuracy: 98.06%, Val Loss: 0.1394, Val Accuracy: 95.50%\n",
            "Epoch 21/30, Train Loss: 0.0613, Train Accuracy: 97.62%, Val Loss: 0.1415, Val Accuracy: 95.25%\n",
            "Epoch 22/30, Train Loss: 0.0472, Train Accuracy: 98.56%, Val Loss: 0.1427, Val Accuracy: 95.25%\n",
            "Epoch 23/30, Train Loss: 0.0485, Train Accuracy: 98.12%, Val Loss: 0.1392, Val Accuracy: 95.25%\n",
            "Epoch 24/30, Train Loss: 0.0445, Train Accuracy: 99.00%, Val Loss: 0.1439, Val Accuracy: 95.00%\n",
            "Epoch 25/30, Train Loss: 0.0404, Train Accuracy: 98.81%, Val Loss: 0.1456, Val Accuracy: 95.00%\n",
            "Epoch 26/30, Train Loss: 0.0654, Train Accuracy: 98.00%, Val Loss: 0.1583, Val Accuracy: 94.75%\n",
            "Epoch 27/30, Train Loss: 0.0421, Train Accuracy: 98.81%, Val Loss: 0.1414, Val Accuracy: 95.50%\n",
            "Epoch 28/30, Train Loss: 0.0496, Train Accuracy: 98.38%, Val Loss: 0.1459, Val Accuracy: 94.75%\n",
            "Epoch 29/30, Train Loss: 0.0497, Train Accuracy: 98.38%, Val Loss: 0.1435, Val Accuracy: 95.75%\n",
            "Epoch 30/30, Train Loss: 0.0470, Train Accuracy: 98.81%, Val Loss: 0.1428, Val Accuracy: 95.00%\n"
          ]
        }
      ],
      "source": [
        "# BCE\n",
        "import torch.optim as optim\n",
        "from torch.optim.lr_scheduler import CosineAnnealingLR, StepLR\n",
        "\n",
        "train_losses = []\n",
        "val_losses = []\n",
        "train_accuracies = []\n",
        "val_accuracies = []\n",
        "\n",
        "epochs = 30\n",
        "best_val_loss = float('inf')\n",
        "\n",
        "# Criterion and Optimizer\n",
        "criterion = nn.BCEWithLogitsLoss()\n",
        "optimizer = optim.Adam(model.parameters(), lr=1e-3)\n",
        "# lr_scheduler = CosineAnnealingLR(optimizer, T_max=len(train_loader)*epochs, eta_min=0)\n",
        "lr_scheduler = StepLR(optimizer, step_size=10, gamma=0.1)\n",
        "\n",
        "for epoch in range(epochs):\n",
        "    # Training\n",
        "    model.train()\n",
        "    total_loss = 0.0\n",
        "    train_correct = 0\n",
        "    total_train_samples = 0\n",
        "\n",
        "    for images, labels in train_loader:\n",
        "        images = images.cuda()\n",
        "        images = images / 255.\n",
        "        labels = labels.cuda()\n",
        "        optimizer.zero_grad()\n",
        "        outputs = model(images)\n",
        "\n",
        "        labels = labels.float().unsqueeze(1)\n",
        "\n",
        "        loss = criterion(outputs, labels)\n",
        "        loss.backward()\n",
        "        optimizer.step()\n",
        "        total_loss += loss.item()\n",
        "\n",
        "        train_predicted = torch.sigmoid(outputs) > 0.5\n",
        "        train_correct += (train_predicted.float() == labels).sum().item()\n",
        "        total_train_samples += labels.size(0)\n",
        "\n",
        "    avg_train_loss = total_loss / len(train_loader)\n",
        "    train_accuracy = 100. * train_correct / total_train_samples\n",
        "\n",
        "    # Validation\n",
        "    model.eval()\n",
        "    total_val_loss = 0.0\n",
        "    correct = 0\n",
        "    total = 0\n",
        "    with torch.no_grad():\n",
        "        for images, labels in val_loader:\n",
        "            images = images.cuda()\n",
        "            images = images / 255.\n",
        "            labels = labels.cuda()\n",
        "            outputs = model(images)\n",
        "\n",
        "            labels = labels.float().unsqueeze(1)\n",
        "\n",
        "            loss = criterion(outputs, labels)\n",
        "            total_val_loss += loss.item()\n",
        "\n",
        "            predicted = torch.sigmoid(outputs) > 0.5\n",
        "            correct += (predicted.float() == labels).sum().item()\n",
        "            total += labels.size(0)\n",
        "\n",
        "    avg_val_loss = total_val_loss / len(val_loader)\n",
        "    val_accuracy = 100. * correct / total\n",
        "\n",
        "    print(f'Epoch {epoch+1}/{epochs}, Train Loss: {avg_train_loss:.4f}, Train Accuracy: {train_accuracy:.2f}%, Val Loss: {avg_val_loss:.4f}, Val Accuracy: {val_accuracy:.2f}%')\n",
        "\n",
        "    # Learning rate update\n",
        "    lr_scheduler.step()\n",
        "\n",
        "    # Checkpoint\n",
        "    if avg_val_loss < best_val_loss:\n",
        "        best_val_loss = avg_val_loss\n",
        "        torch.save(model.state_dict(), 'model_classification.pth')\n",
        "\n",
        "    # Store performance\n",
        "    train_losses.append(avg_train_loss)\n",
        "    train_accuracies.append(train_accuracy)\n",
        "    val_losses.append(avg_val_loss)\n",
        "    val_accuracies.append(val_accuracy)\n",
        "\n",
        "\n",
        "# # CE\n",
        "# import torch.optim as optim\n",
        "# from torch.optim.lr_scheduler import CosineAnnealingLR, StepLR\n",
        "\n",
        "# train_losses = []\n",
        "# val_losses = []\n",
        "# train_accuracies = []\n",
        "# val_accuracies = []\n",
        "\n",
        "# epochs = 30\n",
        "# best_val_loss = float('inf')\n",
        "\n",
        "# # Criterion and Optimizer\n",
        "# criterion = nn.CrossEntropyLoss()   #revise BCE to CE\n",
        "# optimizer = optim.Adam(model.parameters(), lr=1e-3)\n",
        "# #lr_scheduler = CosineAnnealingLR(optimizer, T_max=len(train_loader)*epochs, eta_min=0)\n",
        "# lr_scheduler = StepLR(optimizer, step_size=10, gamma=0.1)\n",
        "\n",
        "# for epoch in range(epochs):\n",
        "#     # Training\n",
        "#     model.train()\n",
        "#     total_loss = 0.0\n",
        "#     train_correct = 0\n",
        "#     total_train_samples = 0\n",
        "\n",
        "#     for images, labels in train_loader:\n",
        "#         images = images.cuda()\n",
        "#         images = images / 255.0\n",
        "#         labels = labels.cuda()\n",
        "#         optimizer.zero_grad()\n",
        "#         outputs = model(images)\n",
        "\n",
        "#         #labels = labels.float().unsqueeze(1)\n",
        "#         labels = labels.long() # Changed from labels.float().unsqueeze(1) for BCE loss\n",
        "\n",
        "#         loss = criterion(outputs, labels)\n",
        "#         loss.backward()\n",
        "#         optimizer.step()\n",
        "#         total_loss += loss.item()\n",
        "\n",
        "#         #train_predicted = torch.sigmoid(outputs) > 0.5  #revise BCE to CE\n",
        "#         train_predicted = outputs.argmax(-1)  # Changed from torch.sigmoid(outputs) > 0.5 for BCE loss\n",
        "#         train_correct += (train_predicted.float() == labels).sum().item()\n",
        "#         total_train_samples += labels.size(0)\n",
        "\n",
        "#     avg_train_loss = total_loss / len(train_loader)\n",
        "#     train_accuracy = 100. * train_correct / total_train_samples\n",
        "\n",
        "#     # Validation\n",
        "#     model.eval()\n",
        "#     total_val_loss = 0.0\n",
        "#     correct = 0\n",
        "#     total = 0\n",
        "#     with torch.no_grad():\n",
        "#         for images, labels in val_loader:\n",
        "#             images = images.cuda()\n",
        "#             images = images / 255.\n",
        "#             labels = labels.cuda()\n",
        "#             outputs = model(images)\n",
        "\n",
        "#             #labels = labels.float().unsqueeze(1)\n",
        "#             labels = labels.long() # Changed from labels.float().unsqueeze(1) for BCE loss\n",
        "\n",
        "#             loss = criterion(outputs, labels)\n",
        "#             total_val_loss += loss.item()\n",
        "\n",
        "#             #predicted = torch.sigmoid(outputs) > 0.5   # BCE to CE\n",
        "#             predicted = outputs.argmax(-1)  # Changed from torch.sigmoid(outputs) > 0.5 for BCE loss\n",
        "#             correct += (predicted.float() == labels).sum().item()\n",
        "#             total += labels.size(0)\n",
        "\n",
        "#     avg_val_loss = total_val_loss / len(val_loader)\n",
        "#     val_accuracy = 100. * correct / total\n",
        "\n",
        "#     print(f'Epoch {epoch+1}/{epochs}, Train Loss: {avg_train_loss:.4f}, Train Accuracy: {train_accuracy:.2f}%, Val Loss: {avg_val_loss:.4f}, Val Accuracy: {val_accuracy:.2f}%')\n",
        "\n",
        "#     # Learning rate update\n",
        "#     lr_scheduler.step()\n",
        "\n",
        "#     # Checkpoint\n",
        "#     if avg_val_loss < best_val_loss:\n",
        "#         best_val_loss = avg_val_loss\n",
        "#         torch.save(model.state_dict(), 'model_classification.pth')\n",
        "\n",
        "#     # Store performance\n",
        "#     train_losses.append(avg_train_loss)\n",
        "#     train_accuracies.append(train_accuracy)\n",
        "#     val_losses.append(avg_val_loss)\n",
        "#     val_accuracies.append(val_accuracy)"
      ]
    },
    {
      "cell_type": "markdown",
      "metadata": {
        "id": "pjmYxAJnxc6t"
      },
      "source": [
        "### Visualizing model performance"
      ]
    },
    {
      "cell_type": "code",
      "execution_count": 114,
      "metadata": {
        "id": "pHpS0Q7vxc6t",
        "colab": {
          "base_uri": "https://localhost:8080/",
          "height": 348
        },
        "outputId": "318267f3-967b-4a7e-a1c5-5ca285f26ac2"
      },
      "outputs": [
        {
          "output_type": "display_data",
          "data": {
            "text/plain": [
              "<Figure size 1500x500 with 2 Axes>"
            ],
            "image/png": "[encoded data removed]"
          },
          "metadata": {}
        }
      ],
      "source": [
        "import matplotlib.pyplot as plt\n",
        "\n",
        "fig, ax = plt.subplots(1, 2, figsize=(15, 5))\n",
        "\n",
        "# Plotting training and validation accuracy\n",
        "ax[0].plot(train_accuracies)\n",
        "ax[0].plot(val_accuracies)\n",
        "ax[0].set_title('Model Accuracy')\n",
        "ax[0].set_xlabel('Epochs')\n",
        "ax[0].set_ylabel('Accuracy')\n",
        "ax[0].legend(['Train', 'Val'])\n",
        "\n",
        "# Plotting training and validation loss\n",
        "ax[1].plot(train_losses)\n",
        "ax[1].plot(val_losses)\n",
        "ax[1].set_title('Model Loss')\n",
        "ax[1].set_xlabel('Epochs')\n",
        "ax[1].set_ylabel('Loss')\n",
        "ax[1].legend(['Train', 'Val'])\n",
        "\n",
        "plt.show()"
      ]
    },
    {
      "cell_type": "code",
      "source": [
        "!wget https://raw.githubusercontent.com/TacoXDD/homeworks/master/dataset/test/test_normal.npy\n",
        "!wget https://raw.githubusercontent.com/TacoXDD/homeworks/master/dataset/test/test_pneumonia.npy\n",
        "\n",
        "import numpy as np\n",
        "\n",
        "test_abnormal = np.load('test_pneumonia.npy')\n",
        "test_normal = np.load('test_normal.npy')\n",
        "\n",
        "print(f'Shape of test_abnormal: {test_abnormal.shape}')\n",
        "print(f'Shape of test_normal: {test_normal.shape}')\n",
        "\n",
        "# For the data having presence of pneumonia assign 1, for the normal ones assign 0.\n",
        "test_abnormal_labels = np.ones((test_abnormal.shape[0],))\n",
        "test_normal_labels = np.zeros((test_normal.shape[0],))\n",
        "\n",
        "x_test = np.concatenate((test_abnormal, test_normal), axis=0)\n",
        "y_test = np.concatenate((test_abnormal_labels, test_normal_labels), axis=0)\n",
        "\n",
        "print(f'Shape of x_test: {x_test.shape}')\n",
        "print(f'Shape of y_test: {y_test.shape}')\n"
      ],
      "metadata": {
        "colab": {
          "base_uri": "https://localhost:8080/"
        },
        "id": "sfdEzpAFfG3J",
        "outputId": "8e47c507-08b9-4881-bdf3-6f9e37ea2abf"
      },
      "execution_count": 115,
      "outputs": [
        {
          "output_type": "stream",
          "name": "stdout",
          "text": [
            "--2023-10-15 13:59:35--  https://raw.githubusercontent.com/TacoXDD/homeworks/master/dataset/test/test_normal.npy\n",
            "Resolving raw.githubusercontent.com (raw.githubusercontent.com)... 185.199.108.133, 185.199.109.133, 185.199.110.133, ...\n",
            "Connecting to raw.githubusercontent.com (raw.githubusercontent.com)|185.199.108.133|:443... connected.\n",
            "HTTP request sent, awaiting response... 200 OK\n",
            "Length: 13107328 (12M) [application/octet-stream]\n",
            "Saving to: ‘test_normal.npy.3’\n",
            "\n",
            "\rtest_normal.npy.3     0%[                    ]       0  --.-KB/s               \rtest_normal.npy.3   100%[===================>]  12.50M  --.-KB/s    in 0.1s    \n",
            "\n",
            "2023-10-15 13:59:35 (123 MB/s) - ‘test_normal.npy.3’ saved [13107328/13107328]\n",
            "\n",
            "--2023-10-15 13:59:35--  https://raw.githubusercontent.com/TacoXDD/homeworks/master/dataset/test/test_pneumonia.npy\n",
            "Resolving raw.githubusercontent.com (raw.githubusercontent.com)... 185.199.110.133, 185.199.108.133, 185.199.111.133, ...\n",
            "Connecting to raw.githubusercontent.com (raw.githubusercontent.com)|185.199.110.133|:443... connected.\n",
            "HTTP request sent, awaiting response... 200 OK\n",
            "Length: 13107328 (12M) [application/octet-stream]\n",
            "Saving to: ‘test_pneumonia.npy.3’\n",
            "\n",
            "test_pneumonia.npy. 100%[===================>]  12.50M  --.-KB/s    in 0.1s    \n",
            "\n",
            "2023-10-15 13:59:35 (111 MB/s) - ‘test_pneumonia.npy.3’ saved [13107328/13107328]\n",
            "\n",
            "Shape of test_abnormal: (200, 256, 256)\n",
            "Shape of test_normal: (200, 256, 256)\n",
            "Shape of x_test: (400, 256, 256)\n",
            "Shape of y_test: (400,)\n"
          ]
        }
      ]
    },
    {
      "cell_type": "code",
      "source": [
        "import torch\n",
        "from torch.utils.data import DataLoader, TensorDataset, random_split\n",
        "\n",
        "# Convert to PyTorch tensors\n",
        "x_test = torch.Tensor(x_test).float()\n",
        "y_test = torch.Tensor(y_test).long()\n",
        "\n",
        "# Combine the images and labels into a dataset\n",
        "test_dataset = TensorDataset(x_test, y_test)\n",
        "\n",
        "# Create a dataloader to load data in batches. Set batch size to 32.\n",
        "test_loader = DataLoader(test_dataset, batch_size=32, shuffle=True)"
      ],
      "metadata": {
        "id": "eniyU3F7fI70"
      },
      "execution_count": 116,
      "outputs": []
    },
    {
      "cell_type": "code",
      "source": [
        "# BCE\n",
        "# Declare the model architecture\n",
        "model = nn.Sequential(\n",
        "    nn.Flatten(),\n",
        "\n",
        "    nn.Linear(256*256*1, 128),\n",
        "    nn.BatchNorm1d(128),\n",
        "    nn.LeakyReLU(),\n",
        "    nn.Dropout(0.5),\n",
        "\n",
        "    nn.Linear(128, 128),\n",
        "    nn.BatchNorm1d(128),\n",
        "    nn.LeakyReLU(),\n",
        "    nn.Dropout(0.5),\n",
        "\n",
        "    nn.Linear(128, 128),\n",
        "    nn.BatchNorm1d(128),\n",
        "    nn.LeakyReLU(),\n",
        "    nn.Dropout(0.5),\n",
        "\n",
        "    nn.Linear(128, 1)\n",
        "\n",
        ").cuda()\n",
        "\n",
        "\n",
        "# Load the trained weights\n",
        "model.load_state_dict(torch.load('model_classification.pth'))\n",
        "\n",
        "# Set the model\n",
        "model.eval()\n",
        "\n",
        "# # CE\n",
        "# # Declare the model architecture\n",
        "# model = nn.Sequential(\n",
        "#     nn.Flatten(),\n",
        "\n",
        "#     nn.Linear(256*256*1, 128),\n",
        "#     nn.BatchNorm1d(128),\n",
        "#     nn.LeakyReLU(),\n",
        "#     nn.Dropout(0),\n",
        "\n",
        "#     nn.Linear(128, 64),\n",
        "#     nn.BatchNorm1d(64),\n",
        "#     nn.LeakyReLU(),\n",
        "#     nn.Dropout(0),\n",
        "\n",
        "#     nn.Linear(64, 32),\n",
        "#     nn.BatchNorm1d(32),\n",
        "#     nn.Softmax(),\n",
        "#     nn.Dropout(0),\n",
        "\n",
        "#     nn.Linear(32, 2)\n",
        "\n",
        "# ).cuda()\n",
        "\n",
        "\n",
        "# # Load the trained weights\n",
        "# model.load_state_dict(torch.load('model_classification.pth'))\n",
        "\n",
        "# # Set the model to evaluation mode\n",
        "# model.eval()"
      ],
      "metadata": {
        "colab": {
          "base_uri": "https://localhost:8080/"
        },
        "id": "8YkRf--vfKxm",
        "outputId": "4f0a6f36-afff-4270-c399-417619d47050"
      },
      "execution_count": 117,
      "outputs": [
        {
          "output_type": "execute_result",
          "data": {
            "text/plain": [
              "Sequential(\n",
              "  (0): Flatten(start_dim=1, end_dim=-1)\n",
              "  (1): Linear(in_features=65536, out_features=128, bias=True)\n",
              "  (2): BatchNorm1d(128, eps=1e-05, momentum=0.1, affine=True, track_running_stats=True)\n",
              "  (3): LeakyReLU(negative_slope=0.01)\n",
              "  (4): Dropout(p=0.5, inplace=False)\n",
              "  (5): Linear(in_features=128, out_features=128, bias=True)\n",
              "  (6): BatchNorm1d(128, eps=1e-05, momentum=0.1, affine=True, track_running_stats=True)\n",
              "  (7): LeakyReLU(negative_slope=0.01)\n",
              "  (8): Dropout(p=0.5, inplace=False)\n",
              "  (9): Linear(in_features=128, out_features=128, bias=True)\n",
              "  (10): BatchNorm1d(128, eps=1e-05, momentum=0.1, affine=True, track_running_stats=True)\n",
              "  (11): LeakyReLU(negative_slope=0.01)\n",
              "  (12): Dropout(p=0.5, inplace=False)\n",
              "  (13): Linear(in_features=128, out_features=1, bias=True)\n",
              ")"
            ]
          },
          "metadata": {},
          "execution_count": 117
        }
      ]
    },
    {
      "cell_type": "code",
      "source": [
        "# BCE\n",
        "test_correct = 0\n",
        "test_total = 0\n",
        "\n",
        "\n",
        "with torch.no_grad():\n",
        "    for images, labels in test_loader:\n",
        "\n",
        "        images = images.cuda()\n",
        "        images = images / 255.\n",
        "\n",
        "        labels = labels.cuda()\n",
        "\n",
        "        outputs = model(images)\n",
        "\n",
        "        labels_float = labels.float().unsqueeze(1)  # Convert labels to float and match shape with outputs\n",
        "        predicted = torch.sigmoid(outputs) > 0.5\n",
        "\n",
        "        test_correct += (predicted.float() == labels_float).sum().item()\n",
        "        test_total += labels.size(0)\n",
        "\n",
        "        train_accuracy = 100. * test_correct / test_total\n",
        "\n",
        "print(f'Test accuracy is {train_accuracy}%.')\n",
        "\n",
        "# # CE\n",
        "# test_correct = 0\n",
        "# test_total = 0\n",
        "\n",
        "\n",
        "# with torch.no_grad():\n",
        "#     for images, labels in test_loader:\n",
        "\n",
        "#         images = images.cuda()\n",
        "#         images = images / 255.\n",
        "\n",
        "#         labels = labels.cuda()\n",
        "\n",
        "#         outputs = model(images)\n",
        "\n",
        "#         #labels_float = labels.float().unsqueeze(1)  # Convert labels to float and match shape with outputs\n",
        "#         labels = labels.long()\n",
        "\n",
        "#         #predicted = torch.sigmoid(outputs) > 0.5\n",
        "#         predicted = outputs.argmax(-1)\n",
        "#         test_correct += (predicted.float() == labels).sum().item()\n",
        "#         test_total += labels.size(0)\n",
        "#         train_accuracy = 100. * test_correct / test_total\n",
        "\n",
        "# print(f'Test accuracy is {train_accuracy}%.')\n"
      ],
      "metadata": {
        "colab": {
          "base_uri": "https://localhost:8080/"
        },
        "id": "J-DLMd-LfO9i",
        "outputId": "f10b237f-a2aa-41f0-cfe8-72234c321630"
      },
      "execution_count": 118,
      "outputs": [
        {
          "output_type": "stream",
          "name": "stdout",
          "text": [
            "Test accuracy is 75.25%.\n"
          ]
        }
      ]
    },
    {
      "cell_type": "code",
      "source": [],
      "metadata": {
        "id": "5BtVYrP1Stx1"
      },
      "execution_count": null,
      "outputs": []
    }
  ],
  "metadata": {
    "accelerator": "GPU",
    "colab": {
      "gpuType": "T4",
      "provenance": [],
      "include_colab_link": true
    },
    "kernelspec": {
      "display_name": "Python 3 (ipykernel)",
      "language": "python",
      "name": "python3"
    },
    "language_info": {
      "codemirror_mode": {
        "name": "ipython",
        "version": 3
      },
      "file_extension": ".py",
      "mimetype": "text/x-python",
      "name": "python",
      "nbconvert_exporter": "python",
      "pygments_lexer": "ipython3",
      "version": "3.8.13"
    }
  },
  "nbformat": 4,
  "nbformat_minor": 0
}