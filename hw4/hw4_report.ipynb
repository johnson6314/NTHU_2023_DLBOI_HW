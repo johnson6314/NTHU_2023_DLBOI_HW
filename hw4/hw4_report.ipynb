{
  "cells": [
    {
      "cell_type": "markdown",
      "metadata": {
        "id": "Li0bVCTuxc6n"
      },
      "source": [
        "<div align=\"center\">\n",
        "\n",
        "# National Tsing Hua University\n",
        "\n",
        "### Fall 2023\n",
        "\n",
        "#### 11210IPT 553000\n",
        "\n",
        "#### Deep Learning in Biomedical Optical Imaging\n",
        "\n",
        "## Lab 5: Transfer Learning for Image Classification\n",
        "</div>\n"
      ]
    },
    {
      "cell_type": "markdown",
      "metadata": {
        "id": "G55MTPEisqgd"
      },
      "source": [
        "Welcome to this tutorial! Here, we'll explore the process of training a Convolutional Neural Network (CNN) for image classification through the powerful technique of transfer learning. To gain a deeper understanding of transfer learning, consider reviewing the comprehensive [cs231n notes](https://cs231n.github.io/transfer-learning/).\n",
        "\n",
        "#### The Essence of Transfer Learning\n",
        "\n",
        "A common challenge in training CNNs is the requirement for a large and diverse dataset. However, not every project or task has the luxury of such a dataset. This is where transfer learning becomes invaluable. In transfer learning, we leverage a pre-trained model— a model trained on a vast dataset, like ImageNet—and adapt it for a different, often more specific task.\n",
        "\n",
        "#### Key Transfer Learning Scenarios\n",
        "\n",
        "There are two primary approaches to using a pre-trained model in transfer learning:\n",
        "\n",
        "1. **Finetuning the ConvNet:**\n",
        "   - **Process:** Start with a pre-trained model and fine-tune it for a specific task.\n",
        "   - **Initialization:** We initialize the model with the weights of a pre-trained network, ensuring a strong and relevant foundation.\n",
        "   - **Training:** The model is then trained further on the new, specific dataset. It adapts and refines the pre-existing knowledge to fit the new data and task at hand.\n",
        "\n",
        "2. **ConvNet as Fixed Feature Extractor:**\n",
        "   - **Process:** Use the pre-trained model as a feature extractor and only train a new classifier on top of it.\n",
        "   - **Frozen Layers:** All the layers of the pre-trained model, except the final fully connected layer, are frozen. Their weights remain unchanged.\n",
        "   - **New Layer:** The final layer is replaced with a new one, initialized with random weights. This layer is then trained on the new dataset.\n",
        "   - **Result:** The model harnesses the features learned from the large dataset and combines them with the specific learnings from the new data."
      ]
    },
    {
      "cell_type": "code",
      "execution_count": null,
      "metadata": {
        "id": "mGJcRwdzM7pS",
        "colab": {
          "base_uri": "https://localhost:8080/"
        },
        "outputId": "99dbdb34-97f2-4cb1-986b-bc86f936b752"
      },
      "outputs": [
        {
          "output_type": "stream",
          "name": "stdout",
          "text": [
            "--2023-11-06 12:25:33--  https://raw.githubusercontent.com/TacoXDD/homeworks/master/dataset/train/normal.npy\n",
            "Resolving raw.githubusercontent.com (raw.githubusercontent.com)... 185.199.108.133, 185.199.109.133, 185.199.110.133, ...\n",
            "Connecting to raw.githubusercontent.com (raw.githubusercontent.com)|185.199.108.133|:443... connected.\n",
            "HTTP request sent, awaiting response... 200 OK\n",
            "Length: 65536128 (62M) [application/octet-stream]\n",
            "Saving to: ‘normal.npy’\n",
            "\n",
            "normal.npy          100%[===================>]  62.50M  --.-KB/s    in 0.1s    \n",
            "\n",
            "2023-11-06 12:25:38 (445 MB/s) - ‘normal.npy’ saved [65536128/65536128]\n",
            "\n",
            "--2023-11-06 12:25:38--  https://raw.githubusercontent.com/TacoXDD/homeworks/master/dataset/train/pneumonia.npy\n",
            "Resolving raw.githubusercontent.com (raw.githubusercontent.com)... 185.199.108.133, 185.199.109.133, 185.199.110.133, ...\n",
            "Connecting to raw.githubusercontent.com (raw.githubusercontent.com)|185.199.108.133|:443... connected.\n",
            "HTTP request sent, awaiting response... 200 OK\n",
            "Length: 65536128 (62M) [application/octet-stream]\n",
            "Saving to: ‘pneumonia.npy’\n",
            "\n",
            "pneumonia.npy       100%[===================>]  62.50M   384MB/s    in 0.2s    \n",
            "\n",
            "2023-11-06 12:25:43 (384 MB/s) - ‘pneumonia.npy’ saved [65536128/65536128]\n",
            "\n"
          ]
        }
      ],
      "source": [
        "# # Download dataset\n",
        "# !wget https://raw.githubusercontent.com/TacoXDD/homeworks/master/dataset/train/normal.npy\n",
        "# !wget https://raw.githubusercontent.com/TacoXDD/homeworks/master/dataset/train/pneumonia.npy"
      ]
    },
    {
      "cell_type": "markdown",
      "metadata": {
        "id": "w-1PsC--M7pT"
      },
      "source": [
        "## A. Data Loading and Preprocessing"
      ]
    },
    {
      "cell_type": "markdown",
      "metadata": {
        "id": "PZzt1n0fsqgf"
      },
      "source": [
        "Use PyTorch  [`Tensor.repeat()`](https://pytorch.org/docs/stable/generated/torch.Tensor.repeat.html) to change the number of channels from 1 to 3.\n"
      ]
    },
    {
      "cell_type": "code",
      "execution_count": 38,
      "metadata": {
        "id": "oScQ0GG6xc6r",
        "colab": {
          "base_uri": "https://localhost:8080/"
        },
        "outputId": "91524573-012f-402f-cb9e-6113d293e9e2"
      },
      "outputs": [
        {
          "output_type": "stream",
          "name": "stdout",
          "text": [
            "Shape of abnormal_scans: (1000, 256, 256)\n",
            "Shape of normal_scans: (1000, 256, 256)\n"
          ]
        }
      ],
      "source": [
        "import torch\n",
        "from torch.utils.data import DataLoader, TensorDataset, random_split\n",
        "\n",
        "import numpy as np\n",
        "\n",
        "# Load Dataset\n",
        "abnormal_scans = np.load('pneumonia.npy')\n",
        "normal_scans = np.load('normal.npy')\n",
        "\n",
        "print(f'Shape of abnormal_scans: {abnormal_scans.shape}')\n",
        "print(f'Shape of normal_scans: {normal_scans.shape}')\n",
        "\n",
        "# For the data having presence of pneumonia assign 1, for the normal ones assign 0.\n",
        "\n",
        "abnormal_labels = np.ones((abnormal_scans.shape[0],))\n",
        "normal_labels = np.zeros((normal_scans.shape[0],))\n",
        "\n",
        "split_point = 800\n",
        "\n",
        "x_train = np.concatenate((abnormal_scans[:split_point], normal_scans[:split_point]), axis=0)\n",
        "y_train = np.concatenate((abnormal_labels[:split_point], normal_labels[:split_point]), axis=0)\n",
        "x_val = np.concatenate((abnormal_scans[split_point:], normal_scans[split_point:]), axis=0)\n",
        "y_val = np.concatenate((abnormal_labels[split_point:], normal_labels[split_point:]), axis=0)\n",
        "\n",
        "# Convert to PyTorch tensors\n",
        "x_train = torch.from_numpy(x_train).float().unsqueeze(1).repeat(1, 3, 1, 1)    # 多一個維度\n",
        "y_train = torch.from_numpy(y_train).long()\n",
        "x_val = torch.from_numpy(x_val).float().unsqueeze(1).repeat(1, 3, 1, 1)\n",
        "y_val = torch.from_numpy(y_val).long()"
      ]
    },
    {
      "cell_type": "code",
      "execution_count": 39,
      "metadata": {
        "colab": {
          "base_uri": "https://localhost:8080/"
        },
        "id": "g1wbIHIbsqgf",
        "outputId": "1e489859-0958-438f-9864-a2cace90c519"
      },
      "outputs": [
        {
          "output_type": "stream",
          "name": "stdout",
          "text": [
            "Number of samples in train and validation are 1600 and 400.\n",
            "X_train: max value is 255.0, min value is 0.0, data type is torch.float32.\n"
          ]
        }
      ],
      "source": [
        "# Create datasets\n",
        "train_dataset = TensorDataset(x_train, y_train)\n",
        "val_dataset = TensorDataset(x_val, y_val)\n",
        "\n",
        "# Create dataloaders\n",
        "train_loader = DataLoader(train_dataset, batch_size=32, shuffle=True)\n",
        "val_loader = DataLoader(val_dataset, batch_size=32, shuffle=False)\n",
        "\n",
        "print(f'Number of samples in train and validation are {len(train_loader.dataset)} and {len(val_loader.dataset)}.')\n",
        "print(f'X_train: max value is {x_train.max().item()}, min value is {x_train.min().item()}, data type is {x_train.dtype}.')"
      ]
    },
    {
      "cell_type": "markdown",
      "metadata": {
        "id": "oaLGtT28xc6s"
      },
      "source": [
        "## B. Defining Neural Networks\n",
        "\n",
        "### 1. Finetuning the ConvNet\n",
        "\n",
        "Load a pretrained model and reset final fully connected layer.\n",
        "\n",
        "### 2. ConvNet as fixed feature extractor\n",
        "\n",
        "Here, we need to freeze all the network except the final layer. We need\n",
        "to set ``requires_grad = False`` to freeze the parameters so that the\n",
        "gradients are not computed in ``backward()``."
      ]
    },
    {
      "cell_type": "code",
      "execution_count": 40,
      "metadata": {
        "colab": {
          "base_uri": "https://localhost:8080/"
        },
        "id": "ZvARBozjsqgg",
        "outputId": "57576459-d5aa-463f-cdcc-9f9eff6208d8"
      },
      "outputs": [
        {
          "output_type": "stream",
          "name": "stdout",
          "text": [
            "ResNet(\n",
            "  (conv1): Conv2d(3, 64, kernel_size=(7, 7), stride=(2, 2), padding=(3, 3), bias=False)\n",
            "  (bn1): BatchNorm2d(64, eps=1e-05, momentum=0.1, affine=True, track_running_stats=True)\n",
            "  (relu): ReLU(inplace=True)\n",
            "  (maxpool): MaxPool2d(kernel_size=3, stride=2, padding=1, dilation=1, ceil_mode=False)\n",
            "  (layer1): Sequential(\n",
            "    (0): Bottleneck(\n",
            "      (conv1): Conv2d(64, 64, kernel_size=(1, 1), stride=(1, 1), bias=False)\n",
            "      (bn1): BatchNorm2d(64, eps=1e-05, momentum=0.1, affine=True, track_running_stats=True)\n",
            "      (conv2): Conv2d(64, 64, kernel_size=(3, 3), stride=(1, 1), padding=(1, 1), bias=False)\n",
            "      (bn2): BatchNorm2d(64, eps=1e-05, momentum=0.1, affine=True, track_running_stats=True)\n",
            "      (conv3): Conv2d(64, 256, kernel_size=(1, 1), stride=(1, 1), bias=False)\n",
            "      (bn3): BatchNorm2d(256, eps=1e-05, momentum=0.1, affine=True, track_running_stats=True)\n",
            "      (relu): ReLU(inplace=True)\n",
            "      (downsample): Sequential(\n",
            "        (0): Conv2d(64, 256, kernel_size=(1, 1), stride=(1, 1), bias=False)\n",
            "        (1): BatchNorm2d(256, eps=1e-05, momentum=0.1, affine=True, track_running_stats=True)\n",
            "      )\n",
            "    )\n",
            "    (1): Bottleneck(\n",
            "      (conv1): Conv2d(256, 64, kernel_size=(1, 1), stride=(1, 1), bias=False)\n",
            "      (bn1): BatchNorm2d(64, eps=1e-05, momentum=0.1, affine=True, track_running_stats=True)\n",
            "      (conv2): Conv2d(64, 64, kernel_size=(3, 3), stride=(1, 1), padding=(1, 1), bias=False)\n",
            "      (bn2): BatchNorm2d(64, eps=1e-05, momentum=0.1, affine=True, track_running_stats=True)\n",
            "      (conv3): Conv2d(64, 256, kernel_size=(1, 1), stride=(1, 1), bias=False)\n",
            "      (bn3): BatchNorm2d(256, eps=1e-05, momentum=0.1, affine=True, track_running_stats=True)\n",
            "      (relu): ReLU(inplace=True)\n",
            "    )\n",
            "    (2): Bottleneck(\n",
            "      (conv1): Conv2d(256, 64, kernel_size=(1, 1), stride=(1, 1), bias=False)\n",
            "      (bn1): BatchNorm2d(64, eps=1e-05, momentum=0.1, affine=True, track_running_stats=True)\n",
            "      (conv2): Conv2d(64, 64, kernel_size=(3, 3), stride=(1, 1), padding=(1, 1), bias=False)\n",
            "      (bn2): BatchNorm2d(64, eps=1e-05, momentum=0.1, affine=True, track_running_stats=True)\n",
            "      (conv3): Conv2d(64, 256, kernel_size=(1, 1), stride=(1, 1), bias=False)\n",
            "      (bn3): BatchNorm2d(256, eps=1e-05, momentum=0.1, affine=True, track_running_stats=True)\n",
            "      (relu): ReLU(inplace=True)\n",
            "    )\n",
            "  )\n",
            "  (layer2): Sequential(\n",
            "    (0): Bottleneck(\n",
            "      (conv1): Conv2d(256, 128, kernel_size=(1, 1), stride=(1, 1), bias=False)\n",
            "      (bn1): BatchNorm2d(128, eps=1e-05, momentum=0.1, affine=True, track_running_stats=True)\n",
            "      (conv2): Conv2d(128, 128, kernel_size=(3, 3), stride=(2, 2), padding=(1, 1), bias=False)\n",
            "      (bn2): BatchNorm2d(128, eps=1e-05, momentum=0.1, affine=True, track_running_stats=True)\n",
            "      (conv3): Conv2d(128, 512, kernel_size=(1, 1), stride=(1, 1), bias=False)\n",
            "      (bn3): BatchNorm2d(512, eps=1e-05, momentum=0.1, affine=True, track_running_stats=True)\n",
            "      (relu): ReLU(inplace=True)\n",
            "      (downsample): Sequential(\n",
            "        (0): Conv2d(256, 512, kernel_size=(1, 1), stride=(2, 2), bias=False)\n",
            "        (1): BatchNorm2d(512, eps=1e-05, momentum=0.1, affine=True, track_running_stats=True)\n",
            "      )\n",
            "    )\n",
            "    (1): Bottleneck(\n",
            "      (conv1): Conv2d(512, 128, kernel_size=(1, 1), stride=(1, 1), bias=False)\n",
            "      (bn1): BatchNorm2d(128, eps=1e-05, momentum=0.1, affine=True, track_running_stats=True)\n",
            "      (conv2): Conv2d(128, 128, kernel_size=(3, 3), stride=(1, 1), padding=(1, 1), bias=False)\n",
            "      (bn2): BatchNorm2d(128, eps=1e-05, momentum=0.1, affine=True, track_running_stats=True)\n",
            "      (conv3): Conv2d(128, 512, kernel_size=(1, 1), stride=(1, 1), bias=False)\n",
            "      (bn3): BatchNorm2d(512, eps=1e-05, momentum=0.1, affine=True, track_running_stats=True)\n",
            "      (relu): ReLU(inplace=True)\n",
            "    )\n",
            "    (2): Bottleneck(\n",
            "      (conv1): Conv2d(512, 128, kernel_size=(1, 1), stride=(1, 1), bias=False)\n",
            "      (bn1): BatchNorm2d(128, eps=1e-05, momentum=0.1, affine=True, track_running_stats=True)\n",
            "      (conv2): Conv2d(128, 128, kernel_size=(3, 3), stride=(1, 1), padding=(1, 1), bias=False)\n",
            "      (bn2): BatchNorm2d(128, eps=1e-05, momentum=0.1, affine=True, track_running_stats=True)\n",
            "      (conv3): Conv2d(128, 512, kernel_size=(1, 1), stride=(1, 1), bias=False)\n",
            "      (bn3): BatchNorm2d(512, eps=1e-05, momentum=0.1, affine=True, track_running_stats=True)\n",
            "      (relu): ReLU(inplace=True)\n",
            "    )\n",
            "    (3): Bottleneck(\n",
            "      (conv1): Conv2d(512, 128, kernel_size=(1, 1), stride=(1, 1), bias=False)\n",
            "      (bn1): BatchNorm2d(128, eps=1e-05, momentum=0.1, affine=True, track_running_stats=True)\n",
            "      (conv2): Conv2d(128, 128, kernel_size=(3, 3), stride=(1, 1), padding=(1, 1), bias=False)\n",
            "      (bn2): BatchNorm2d(128, eps=1e-05, momentum=0.1, affine=True, track_running_stats=True)\n",
            "      (conv3): Conv2d(128, 512, kernel_size=(1, 1), stride=(1, 1), bias=False)\n",
            "      (bn3): BatchNorm2d(512, eps=1e-05, momentum=0.1, affine=True, track_running_stats=True)\n",
            "      (relu): ReLU(inplace=True)\n",
            "    )\n",
            "  )\n",
            "  (layer3): Sequential(\n",
            "    (0): Bottleneck(\n",
            "      (conv1): Conv2d(512, 256, kernel_size=(1, 1), stride=(1, 1), bias=False)\n",
            "      (bn1): BatchNorm2d(256, eps=1e-05, momentum=0.1, affine=True, track_running_stats=True)\n",
            "      (conv2): Conv2d(256, 256, kernel_size=(3, 3), stride=(2, 2), padding=(1, 1), bias=False)\n",
            "      (bn2): BatchNorm2d(256, eps=1e-05, momentum=0.1, affine=True, track_running_stats=True)\n",
            "      (conv3): Conv2d(256, 1024, kernel_size=(1, 1), stride=(1, 1), bias=False)\n",
            "      (bn3): BatchNorm2d(1024, eps=1e-05, momentum=0.1, affine=True, track_running_stats=True)\n",
            "      (relu): ReLU(inplace=True)\n",
            "      (downsample): Sequential(\n",
            "        (0): Conv2d(512, 1024, kernel_size=(1, 1), stride=(2, 2), bias=False)\n",
            "        (1): BatchNorm2d(1024, eps=1e-05, momentum=0.1, affine=True, track_running_stats=True)\n",
            "      )\n",
            "    )\n",
            "    (1): Bottleneck(\n",
            "      (conv1): Conv2d(1024, 256, kernel_size=(1, 1), stride=(1, 1), bias=False)\n",
            "      (bn1): BatchNorm2d(256, eps=1e-05, momentum=0.1, affine=True, track_running_stats=True)\n",
            "      (conv2): Conv2d(256, 256, kernel_size=(3, 3), stride=(1, 1), padding=(1, 1), bias=False)\n",
            "      (bn2): BatchNorm2d(256, eps=1e-05, momentum=0.1, affine=True, track_running_stats=True)\n",
            "      (conv3): Conv2d(256, 1024, kernel_size=(1, 1), stride=(1, 1), bias=False)\n",
            "      (bn3): BatchNorm2d(1024, eps=1e-05, momentum=0.1, affine=True, track_running_stats=True)\n",
            "      (relu): ReLU(inplace=True)\n",
            "    )\n",
            "    (2): Bottleneck(\n",
            "      (conv1): Conv2d(1024, 256, kernel_size=(1, 1), stride=(1, 1), bias=False)\n",
            "      (bn1): BatchNorm2d(256, eps=1e-05, momentum=0.1, affine=True, track_running_stats=True)\n",
            "      (conv2): Conv2d(256, 256, kernel_size=(3, 3), stride=(1, 1), padding=(1, 1), bias=False)\n",
            "      (bn2): BatchNorm2d(256, eps=1e-05, momentum=0.1, affine=True, track_running_stats=True)\n",
            "      (conv3): Conv2d(256, 1024, kernel_size=(1, 1), stride=(1, 1), bias=False)\n",
            "      (bn3): BatchNorm2d(1024, eps=1e-05, momentum=0.1, affine=True, track_running_stats=True)\n",
            "      (relu): ReLU(inplace=True)\n",
            "    )\n",
            "    (3): Bottleneck(\n",
            "      (conv1): Conv2d(1024, 256, kernel_size=(1, 1), stride=(1, 1), bias=False)\n",
            "      (bn1): BatchNorm2d(256, eps=1e-05, momentum=0.1, affine=True, track_running_stats=True)\n",
            "      (conv2): Conv2d(256, 256, kernel_size=(3, 3), stride=(1, 1), padding=(1, 1), bias=False)\n",
            "      (bn2): BatchNorm2d(256, eps=1e-05, momentum=0.1, affine=True, track_running_stats=True)\n",
            "      (conv3): Conv2d(256, 1024, kernel_size=(1, 1), stride=(1, 1), bias=False)\n",
            "      (bn3): BatchNorm2d(1024, eps=1e-05, momentum=0.1, affine=True, track_running_stats=True)\n",
            "      (relu): ReLU(inplace=True)\n",
            "    )\n",
            "    (4): Bottleneck(\n",
            "      (conv1): Conv2d(1024, 256, kernel_size=(1, 1), stride=(1, 1), bias=False)\n",
            "      (bn1): BatchNorm2d(256, eps=1e-05, momentum=0.1, affine=True, track_running_stats=True)\n",
            "      (conv2): Conv2d(256, 256, kernel_size=(3, 3), stride=(1, 1), padding=(1, 1), bias=False)\n",
            "      (bn2): BatchNorm2d(256, eps=1e-05, momentum=0.1, affine=True, track_running_stats=True)\n",
            "      (conv3): Conv2d(256, 1024, kernel_size=(1, 1), stride=(1, 1), bias=False)\n",
            "      (bn3): BatchNorm2d(1024, eps=1e-05, momentum=0.1, affine=True, track_running_stats=True)\n",
            "      (relu): ReLU(inplace=True)\n",
            "    )\n",
            "    (5): Bottleneck(\n",
            "      (conv1): Conv2d(1024, 256, kernel_size=(1, 1), stride=(1, 1), bias=False)\n",
            "      (bn1): BatchNorm2d(256, eps=1e-05, momentum=0.1, affine=True, track_running_stats=True)\n",
            "      (conv2): Conv2d(256, 256, kernel_size=(3, 3), stride=(1, 1), padding=(1, 1), bias=False)\n",
            "      (bn2): BatchNorm2d(256, eps=1e-05, momentum=0.1, affine=True, track_running_stats=True)\n",
            "      (conv3): Conv2d(256, 1024, kernel_size=(1, 1), stride=(1, 1), bias=False)\n",
            "      (bn3): BatchNorm2d(1024, eps=1e-05, momentum=0.1, affine=True, track_running_stats=True)\n",
            "      (relu): ReLU(inplace=True)\n",
            "    )\n",
            "  )\n",
            "  (layer4): Sequential(\n",
            "    (0): Bottleneck(\n",
            "      (conv1): Conv2d(1024, 512, kernel_size=(1, 1), stride=(1, 1), bias=False)\n",
            "      (bn1): BatchNorm2d(512, eps=1e-05, momentum=0.1, affine=True, track_running_stats=True)\n",
            "      (conv2): Conv2d(512, 512, kernel_size=(3, 3), stride=(2, 2), padding=(1, 1), bias=False)\n",
            "      (bn2): BatchNorm2d(512, eps=1e-05, momentum=0.1, affine=True, track_running_stats=True)\n",
            "      (conv3): Conv2d(512, 2048, kernel_size=(1, 1), stride=(1, 1), bias=False)\n",
            "      (bn3): BatchNorm2d(2048, eps=1e-05, momentum=0.1, affine=True, track_running_stats=True)\n",
            "      (relu): ReLU(inplace=True)\n",
            "      (downsample): Sequential(\n",
            "        (0): Conv2d(1024, 2048, kernel_size=(1, 1), stride=(2, 2), bias=False)\n",
            "        (1): BatchNorm2d(2048, eps=1e-05, momentum=0.1, affine=True, track_running_stats=True)\n",
            "      )\n",
            "    )\n",
            "    (1): Bottleneck(\n",
            "      (conv1): Conv2d(2048, 512, kernel_size=(1, 1), stride=(1, 1), bias=False)\n",
            "      (bn1): BatchNorm2d(512, eps=1e-05, momentum=0.1, affine=True, track_running_stats=True)\n",
            "      (conv2): Conv2d(512, 512, kernel_size=(3, 3), stride=(1, 1), padding=(1, 1), bias=False)\n",
            "      (bn2): BatchNorm2d(512, eps=1e-05, momentum=0.1, affine=True, track_running_stats=True)\n",
            "      (conv3): Conv2d(512, 2048, kernel_size=(1, 1), stride=(1, 1), bias=False)\n",
            "      (bn3): BatchNorm2d(2048, eps=1e-05, momentum=0.1, affine=True, track_running_stats=True)\n",
            "      (relu): ReLU(inplace=True)\n",
            "    )\n",
            "    (2): Bottleneck(\n",
            "      (conv1): Conv2d(2048, 512, kernel_size=(1, 1), stride=(1, 1), bias=False)\n",
            "      (bn1): BatchNorm2d(512, eps=1e-05, momentum=0.1, affine=True, track_running_stats=True)\n",
            "      (conv2): Conv2d(512, 512, kernel_size=(3, 3), stride=(1, 1), padding=(1, 1), bias=False)\n",
            "      (bn2): BatchNorm2d(512, eps=1e-05, momentum=0.1, affine=True, track_running_stats=True)\n",
            "      (conv3): Conv2d(512, 2048, kernel_size=(1, 1), stride=(1, 1), bias=False)\n",
            "      (bn3): BatchNorm2d(2048, eps=1e-05, momentum=0.1, affine=True, track_running_stats=True)\n",
            "      (relu): ReLU(inplace=True)\n",
            "    )\n",
            "  )\n",
            "  (avgpool): AdaptiveAvgPool2d(output_size=(1, 1))\n",
            "  (fc): Linear(in_features=2048, out_features=2, bias=True)\n",
            ")\n"
          ]
        }
      ],
      "source": [
        "import torch.nn as nn\n",
        "import torch.nn.functional as F\n",
        "from torchvision import models\n",
        "\n",
        "model = models.resnet50(weights='IMAGENET1K_V1')\n",
        "# model = models.googlenet(weights='IMAGENET1K_V1')\n",
        "\n",
        "# ConvNet as fixed feature extractor (freeze parameters)\n",
        "for param in model.parameters():\n",
        "    param.requires_grad = False\n",
        "\n",
        "num_ftrs = model.fc.in_features        #   (fc): Linear(in_features=512, out_features=1000, bias=True))\n",
        "# print(model)\n",
        "\n",
        "\n",
        "# Here the size of each output sample is set to 2.\n",
        "# Alternatively, it can be generalized to ``nn.Linear(num_ftrs, len(class_names))``.\n",
        "model.fc = nn.Linear(num_ftrs, 2)      #   (fc): Linear(in_features=512, out_features=2, bias=True)\n",
        "model = model.cuda()\n",
        "print(model)"
      ]
    },
    {
      "cell_type": "markdown",
      "metadata": {
        "id": "nvLTU-IfZLqn"
      },
      "source": [
        "## C. Training the Neural Network"
      ]
    },
    {
      "cell_type": "code",
      "execution_count": 42,
      "metadata": {
        "id": "45ol4lpVxc6t",
        "colab": {
          "base_uri": "https://localhost:8080/",
          "height": 590,
          "referenced_widgets": [
            "007c0dd248f04db8a778b562c8c2630d",
            "c5dc569276cc490ba53be37a93895e31",
            "8ce314cfa6684649bb42d0ba06e2c453",
            "4d83c69c62e348abab9f354bd5a564c7",
            "761d16496fc4447482af8b095cbf9eaa",
            "da3bd1daedf44aa2b18c1d8b2c5f1296",
            "998ed71bfe044436830818c6f9b46d06",
            "5b3184e3841146dd8e56bfe6c00d93b8",
            "a2c62d2b98d543a4bdf154fd9e462932",
            "8cad74b63c0f43909d7e9da6ef835b0a",
            "0bbee1b1c9614fd9b57c7a41980663ac"
          ]
        },
        "outputId": "22535f4f-bf02-44a2-ae41-e8f371a51b0c"
      },
      "outputs": [
        {
          "output_type": "display_data",
          "data": {
            "text/plain": [
              "  0%|          | 0/30 [00:00<?, ?it/s]"
            ],
            "application/vnd.jupyter.widget-view+json": {
              "version_major": 2,
              "version_minor": 0,
              "model_id": "007c0dd248f04db8a778b562c8c2630d"
            }
          },
          "metadata": {}
        },
        {
          "output_type": "stream",
          "name": "stdout",
          "text": [
            "Epoch 1/30, Train loss: 0.4104, Train acc: 82.12%, Val loss: 0.3302, Val acc: 87.75%, Best Val loss: 0.3302 Best Val acc: 87.75%\n",
            "Epoch 2/30, Train loss: 0.2251, Train acc: 92.06%, Val loss: 0.1899, Val acc: 93.00%, Best Val loss: 0.1899 Best Val acc: 93.00%\n",
            "Epoch 3/30, Train loss: 0.2007, Train acc: 92.12%, Val loss: 0.1732, Val acc: 93.50%, Best Val loss: 0.1732 Best Val acc: 93.50%\n",
            "Epoch 4/30, Train loss: 0.1718, Train acc: 92.75%, Val loss: 0.1780, Val acc: 93.00%, Best Val loss: 0.1732 Best Val acc: 93.50%\n",
            "Epoch 5/30, Train loss: 0.1701, Train acc: 94.31%, Val loss: 0.1599, Val acc: 93.50%, Best Val loss: 0.1599 Best Val acc: 93.50%\n",
            "Epoch 6/30, Train loss: 0.1422, Train acc: 94.81%, Val loss: 0.1558, Val acc: 93.75%, Best Val loss: 0.1558 Best Val acc: 93.75%\n",
            "Epoch 7/30, Train loss: 0.1500, Train acc: 94.19%, Val loss: 0.1479, Val acc: 94.25%, Best Val loss: 0.1479 Best Val acc: 94.25%\n",
            "Epoch 8/30, Train loss: 0.1430, Train acc: 94.69%, Val loss: 0.1484, Val acc: 94.00%, Best Val loss: 0.1479 Best Val acc: 94.25%\n",
            "Epoch 9/30, Train loss: 0.1705, Train acc: 93.44%, Val loss: 0.1863, Val acc: 93.00%, Best Val loss: 0.1479 Best Val acc: 94.25%\n",
            "Epoch 10/30, Train loss: 0.1353, Train acc: 94.56%, Val loss: 0.1445, Val acc: 94.75%, Best Val loss: 0.1445 Best Val acc: 94.75%\n",
            "Epoch 11/30, Train loss: 0.1450, Train acc: 94.38%, Val loss: 0.1504, Val acc: 94.25%, Best Val loss: 0.1445 Best Val acc: 94.75%\n",
            "Epoch 12/30, Train loss: 0.1273, Train acc: 94.38%, Val loss: 0.1526, Val acc: 93.50%, Best Val loss: 0.1445 Best Val acc: 94.75%\n",
            "Epoch 13/30, Train loss: 0.1337, Train acc: 94.81%, Val loss: 0.1871, Val acc: 93.50%, Best Val loss: 0.1445 Best Val acc: 94.75%\n",
            "Epoch 14/30, Train loss: 0.1186, Train acc: 95.75%, Val loss: 0.1862, Val acc: 93.00%, Best Val loss: 0.1445 Best Val acc: 94.75%\n",
            "Epoch 15/30, Train loss: 0.1044, Train acc: 96.00%, Val loss: 0.1444, Val acc: 94.00%, Best Val loss: 0.1444 Best Val acc: 94.75%\n",
            "Epoch 16/30, Train loss: 0.1028, Train acc: 96.25%, Val loss: 0.1366, Val acc: 94.25%, Best Val loss: 0.1366 Best Val acc: 94.75%\n",
            "Epoch 17/30, Train loss: 0.1094, Train acc: 95.69%, Val loss: 0.1352, Val acc: 94.25%, Best Val loss: 0.1352 Best Val acc: 94.75%\n",
            "Epoch 18/30, Train loss: 0.1142, Train acc: 95.56%, Val loss: 0.1371, Val acc: 94.75%, Best Val loss: 0.1352 Best Val acc: 94.75%\n",
            "Epoch 19/30, Train loss: 0.1062, Train acc: 96.06%, Val loss: 0.1344, Val acc: 94.75%, Best Val loss: 0.1344 Best Val acc: 94.75%\n",
            "Epoch 20/30, Train loss: 0.1590, Train acc: 93.44%, Val loss: 0.1345, Val acc: 94.50%, Best Val loss: 0.1344 Best Val acc: 94.75%\n",
            "Epoch 21/30, Train loss: 0.1121, Train acc: 95.75%, Val loss: 0.1529, Val acc: 94.50%, Best Val loss: 0.1344 Best Val acc: 94.75%\n",
            "Epoch 22/30, Train loss: 0.0969, Train acc: 96.62%, Val loss: 0.1332, Val acc: 94.50%, Best Val loss: 0.1332 Best Val acc: 94.75%\n",
            "Epoch 23/30, Train loss: 0.1104, Train acc: 95.88%, Val loss: 0.1435, Val acc: 94.75%, Best Val loss: 0.1332 Best Val acc: 94.75%\n",
            "Epoch 24/30, Train loss: 0.1040, Train acc: 95.81%, Val loss: 0.1959, Val acc: 93.00%, Best Val loss: 0.1332 Best Val acc: 94.75%\n",
            "Epoch 25/30, Train loss: 0.0997, Train acc: 95.56%, Val loss: 0.1331, Val acc: 94.50%, Best Val loss: 0.1331 Best Val acc: 94.75%\n",
            "Epoch 26/30, Train loss: 0.0888, Train acc: 96.69%, Val loss: 0.1730, Val acc: 93.50%, Best Val loss: 0.1331 Best Val acc: 94.75%\n",
            "Epoch 27/30, Train loss: 0.1267, Train acc: 94.62%, Val loss: 0.1333, Val acc: 94.75%, Best Val loss: 0.1331 Best Val acc: 94.75%\n",
            "Epoch 28/30, Train loss: 0.1070, Train acc: 95.88%, Val loss: 0.1396, Val acc: 94.75%, Best Val loss: 0.1331 Best Val acc: 94.75%\n",
            "Epoch 29/30, Train loss: 0.1036, Train acc: 96.19%, Val loss: 0.1821, Val acc: 93.25%, Best Val loss: 0.1331 Best Val acc: 94.75%\n",
            "Epoch 30/30, Train loss: 0.0896, Train acc: 96.75%, Val loss: 0.1334, Val acc: 94.75%, Best Val loss: 0.1331 Best Val acc: 94.75%\n"
          ]
        }
      ],
      "source": [
        "import torch.optim as optim\n",
        "from torch.optim.lr_scheduler import CosineAnnealingLR, StepLR\n",
        "from tqdm.auto import tqdm\n",
        "\n",
        "train_losses = []\n",
        "val_losses = []\n",
        "train_accuracies = []\n",
        "val_accuracies = []\n",
        "\n",
        "epochs =30\n",
        "\n",
        "# Change you model here\n",
        "# model = ConvGAP()\n",
        "# print(model)\n",
        "# model = model.cuda()\n",
        "\n",
        "best_val_loss = float('inf')\n",
        "best_val_acc = -1\n",
        "\n",
        "criterion = nn.CrossEntropyLoss()\n",
        "optimizer = optim.Adam(model.parameters(), lr=1e-3)\n",
        "lr_scheduler = CosineAnnealingLR(optimizer, T_max=len(train_loader)*epochs, eta_min=0)\n",
        "\n",
        "for epoch in tqdm(range(epochs)):\n",
        "    # Training\n",
        "    model.train()\n",
        "    total_loss = 0.0\n",
        "    train_correct = 0\n",
        "    total_train_samples = 0\n",
        "\n",
        "    for images, labels in train_loader:\n",
        "        images = images.cuda()\n",
        "        images = images / 255.\n",
        "        labels = labels.cuda()\n",
        "        optimizer.zero_grad()\n",
        "        outputs = model(images)\n",
        "\n",
        "        labels = labels.long()\n",
        "\n",
        "        loss = criterion(outputs, labels)\n",
        "        loss.backward()\n",
        "        optimizer.step()\n",
        "        total_loss += loss.item()\n",
        "\n",
        "        train_predicted = outputs.argmax(-1)\n",
        "        train_correct += (train_predicted.float() == labels).sum().item()\n",
        "        total_train_samples += labels.size(0)\n",
        "\n",
        "    avg_train_loss = total_loss / len(train_loader)\n",
        "    train_accuracy = 100. * train_correct / total_train_samples\n",
        "\n",
        "    # Validation\n",
        "    model.eval()\n",
        "    total_val_loss = 0.0\n",
        "    correct = 0\n",
        "    total = 0\n",
        "    with torch.no_grad():\n",
        "        for images, labels in val_loader:\n",
        "            images = images.cuda()\n",
        "            images = images / 255.\n",
        "            labels = labels.cuda()\n",
        "            outputs = model(images)\n",
        "\n",
        "            labels = labels.long()\n",
        "\n",
        "            loss = criterion(outputs, labels)\n",
        "            total_val_loss += loss.item()\n",
        "\n",
        "            predicted = outputs.argmax(-1)\n",
        "            correct += (predicted.float() == labels).sum().item()\n",
        "            total += labels.size(0)\n",
        "\n",
        "    avg_val_loss = total_val_loss / len(val_loader)\n",
        "    val_accuracy = 100. * correct / total\n",
        "\n",
        "    # Learning rate update\n",
        "    lr_scheduler.step()\n",
        "\n",
        "    # Checkpoint\n",
        "    if avg_val_loss < best_val_loss:\n",
        "        best_val_loss = avg_val_loss\n",
        "\n",
        "    if val_accuracy > best_val_acc:\n",
        "        best_val_acc = val_accuracy\n",
        "        torch.save(model.state_dict(), 'model_classification.pth')\n",
        "\n",
        "    print(f'Epoch {epoch+1}/{epochs}, Train loss: {avg_train_loss:.4f}, Train acc: {train_accuracy:.2f}%, Val loss: {avg_val_loss:.4f}, Val acc: {val_accuracy:.2f}%, Best Val loss: {best_val_loss:.4f} Best Val acc: {best_val_acc:.2f}%')\n",
        "\n",
        "    # Store performance\n",
        "    train_losses.append(avg_train_loss)\n",
        "    train_accuracies.append(train_accuracy)\n",
        "    val_losses.append(avg_val_loss)\n",
        "    val_accuracies.append(val_accuracy)"
      ]
    },
    {
      "cell_type": "markdown",
      "metadata": {
        "id": "pjmYxAJnxc6t"
      },
      "source": [
        "### Visualizing model performance"
      ]
    },
    {
      "cell_type": "code",
      "execution_count": 43,
      "metadata": {
        "id": "pHpS0Q7vxc6t",
        "colab": {
          "base_uri": "https://localhost:8080/",
          "height": 257
        },
        "outputId": "422d2df1-97ec-4a44-b0ee-d8b891825163"
      },
      "outputs": [
        {
          "output_type": "display_data",
          "data": {
            "text/plain": [
              "<Figure size 1500x500 with 2 Axes>"
            ],
            "image/png": "[encoded data removed]"
          },
          "metadata": {}
        }
      ],
      "source": [
        "import matplotlib.pyplot as plt\n",
        "\n",
        "fig, ax = plt.subplots(1, 2, figsize=(15, 5))\n",
        "\n",
        "# Plotting training and validation accuracy\n",
        "ax[0].plot(train_accuracies)\n",
        "ax[0].plot(val_accuracies)\n",
        "ax[0].set_title('Model Accuracy')\n",
        "ax[0].set_xlabel('Epochs')\n",
        "ax[0].set_ylabel('Accuracy')\n",
        "ax[0].legend(['Train', 'Val'])\n",
        "\n",
        "# Plotting training and validation loss\n",
        "ax[1].plot(train_losses)\n",
        "ax[1].plot(val_losses)\n",
        "ax[1].set_title('Model Loss')\n",
        "ax[1].set_xlabel('Epochs')\n",
        "ax[1].set_ylabel('Loss')\n",
        "ax[1].legend(['Train', 'Val'])\n",
        "\n",
        "plt.show()"
      ]
    },
    {
      "cell_type": "markdown",
      "metadata": {
        "id": "uF_DJw-ssqgh"
      },
      "source": [
        "## D. Evaluating Your Trained Model"
      ]
    },
    {
      "cell_type": "code",
      "execution_count": null,
      "metadata": {
        "colab": {
          "base_uri": "https://localhost:8080/"
        },
        "id": "ZQ1hYc6zsqgh",
        "outputId": "0d8dde63-ca7f-4aad-c45c-33002255ea07"
      },
      "outputs": [
        {
          "output_type": "stream",
          "name": "stdout",
          "text": [
            "--2023-11-06 12:30:41--  https://raw.githubusercontent.com/TacoXDD/homeworks/master/dataset/test/test_normal.npy\n",
            "Resolving raw.githubusercontent.com (raw.githubusercontent.com)... 185.199.108.133, 185.199.109.133, 185.199.110.133, ...\n",
            "Connecting to raw.githubusercontent.com (raw.githubusercontent.com)|185.199.108.133|:443... connected.\n",
            "HTTP request sent, awaiting response... 200 OK\n",
            "Length: 13107328 (12M) [application/octet-stream]\n",
            "Saving to: ‘test_normal.npy’\n",
            "\n",
            "test_normal.npy     100%[===================>]  12.50M  --.-KB/s    in 0.03s   \n",
            "\n",
            "2023-11-06 12:30:42 (377 MB/s) - ‘test_normal.npy’ saved [13107328/13107328]\n",
            "\n",
            "--2023-11-06 12:30:43--  https://raw.githubusercontent.com/TacoXDD/homeworks/master/dataset/test/test_pneumonia.npy\n",
            "Resolving raw.githubusercontent.com (raw.githubusercontent.com)... 185.199.108.133, 185.199.109.133, 185.199.110.133, ...\n",
            "Connecting to raw.githubusercontent.com (raw.githubusercontent.com)|185.199.108.133|:443... connected.\n",
            "HTTP request sent, awaiting response... 200 OK\n",
            "Length: 13107328 (12M) [application/octet-stream]\n",
            "Saving to: ‘test_pneumonia.npy’\n",
            "\n",
            "test_pneumonia.npy  100%[===================>]  12.50M  --.-KB/s    in 0.03s   \n",
            "\n",
            "2023-11-06 12:30:44 (383 MB/s) - ‘test_pneumonia.npy’ saved [13107328/13107328]\n",
            "\n"
          ]
        }
      ],
      "source": [
        "# !wget https://raw.githubusercontent.com/TacoXDD/homeworks/master/dataset/test/test_normal.npy\n",
        "# !wget https://raw.githubusercontent.com/TacoXDD/homeworks/master/dataset/test/test_pneumonia.npy"
      ]
    },
    {
      "cell_type": "markdown",
      "metadata": {
        "id": "y7-fJPhxsqgh"
      },
      "source": [
        "### Process Test Dataset"
      ]
    },
    {
      "cell_type": "code",
      "execution_count": 44,
      "metadata": {
        "colab": {
          "base_uri": "https://localhost:8080/"
        },
        "id": "paQGITa2sqgh",
        "outputId": "0416f8b7-4da9-41e7-a436-3c9c9865bfbd"
      },
      "outputs": [
        {
          "output_type": "stream",
          "name": "stdout",
          "text": [
            "Shape of test_abnormal: (200, 256, 256)\n",
            "Shape of test_normal: (200, 256, 256)\n",
            "Shape of x_test: (400, 256, 256)\n",
            "Shape of y_test: (400,)\n"
          ]
        }
      ],
      "source": [
        "test_abnormal = np.load('test_pneumonia.npy')\n",
        "test_normal = np.load('test_normal.npy')\n",
        "\n",
        "print(f'Shape of test_abnormal: {test_abnormal.shape}')\n",
        "print(f'Shape of test_normal: {test_normal.shape}')\n",
        "\n",
        "# For the data having presence of pneumonia assign 1, for the normal ones assign 0.\n",
        "test_abnormal_labels = np.ones((test_abnormal.shape[0],))\n",
        "test_normal_labels = np.zeros((test_normal.shape[0],))\n",
        "\n",
        "x_test = np.concatenate((test_abnormal, test_normal), axis=0)\n",
        "y_test = np.concatenate((test_abnormal_labels, test_normal_labels), axis=0)\n",
        "\n",
        "print(f'Shape of x_test: {x_test.shape}')\n",
        "print(f'Shape of y_test: {y_test.shape}')\n",
        "\n",
        "# Convert to PyTorch tensors\n",
        "x_test = torch.from_numpy(x_test).float().unsqueeze(1).repeat(1, 3, 1, 1)\n",
        "y_test = torch.from_numpy(y_test).long()"
      ]
    },
    {
      "cell_type": "code",
      "execution_count": 45,
      "metadata": {
        "id": "CR4am6Jpsqgh"
      },
      "outputs": [],
      "source": [
        "# Combine the images and labels into a dataset\n",
        "test_dataset = TensorDataset(x_test, y_test)\n",
        "\n",
        "# Create a dataloader to load data in batches. Set batch size to 32.\n",
        "test_loader = DataLoader(test_dataset, 32, shuffle=False)"
      ]
    },
    {
      "cell_type": "markdown",
      "metadata": {
        "id": "nviFQ9QXsqgh"
      },
      "source": [
        "### Load Trained Model and Evaluate"
      ]
    },
    {
      "cell_type": "code",
      "execution_count": 46,
      "metadata": {
        "colab": {
          "base_uri": "https://localhost:8080/"
        },
        "id": "vRB9x-O4sqgi",
        "outputId": "17e8a67d-7d53-4975-dbdf-7b9715d5e02c"
      },
      "outputs": [
        {
          "output_type": "stream",
          "name": "stdout",
          "text": [
            "Test accuracy is 84.75%\n"
          ]
        }
      ],
      "source": [
        "# Load the trained weights\n",
        "model.load_state_dict(torch.load('model_classification.pth'))\n",
        "\n",
        "# Set the model to evaluation mode\n",
        "model.eval()\n",
        "\n",
        "test_correct = 0\n",
        "test_total = 0\n",
        "\n",
        "with torch.no_grad():\n",
        "    for images, labels in test_loader:\n",
        "\n",
        "        images = images.cuda()\n",
        "        images = images / 255.\n",
        "\n",
        "        labels = labels.cuda()\n",
        "        labels = labels.long()\n",
        "\n",
        "        outputs = model(images)\n",
        "\n",
        "        predicted = outputs.argmax(-1)\n",
        "        test_correct += (predicted.float() == labels).sum().item()\n",
        "        test_total += labels.size(0)\n",
        "\n",
        "print(f'Test accuracy is {100. * test_correct / test_total}%')"
      ]
    },
    {
      "cell_type": "code",
      "execution_count": null,
      "metadata": {
        "id": "qiYy9ev6sqgi"
      },
      "outputs": [],
      "source": []
    }
  ],
  "metadata": {
    "accelerator": "GPU",
    "colab": {
      "gpuType": "T4",
      "provenance": []
    },
    "kernelspec": {
      "display_name": "Python 3",
      "name": "python3"
    },
    "language_info": {
      "codemirror_mode": {
        "name": "ipython",
        "version": 3
      },
      "file_extension": ".py",
      "mimetype": "text/x-python",
      "name": "python",
      "nbconvert_exporter": "python",
      "pygments_lexer": "ipython3",
      "version": "3.8.13"
    },
    "widgets": {
      "application/vnd.jupyter.widget-state+json": {
        "007c0dd248f04db8a778b562c8c2630d": {
          "model_module": "@jupyter-widgets/controls",
          "model_name": "HBoxModel",
          "model_module_version": "1.5.0",
          "state": {
            "_dom_classes": [],
            "_model_module": "@jupyter-widgets/controls",
            "_model_module_version": "1.5.0",
            "_model_name": "HBoxModel",
            "_view_count": null,
            "_view_module": "@jupyter-widgets/controls",
            "_view_module_version": "1.5.0",
            "_view_name": "HBoxView",
            "box_style": "",
            "children": [
              "IPY_MODEL_c5dc569276cc490ba53be37a93895e31",
              "IPY_MODEL_8ce314cfa6684649bb42d0ba06e2c453",
              "IPY_MODEL_4d83c69c62e348abab9f354bd5a564c7"
            ],
            "layout": "IPY_MODEL_761d16496fc4447482af8b095cbf9eaa"
          }
        },
        "c5dc569276cc490ba53be37a93895e31": {
          "model_module": "@jupyter-widgets/controls",
          "model_name": "HTMLModel",
          "model_module_version": "1.5.0",
          "state": {
            "_dom_classes": [],
            "_model_module": "@jupyter-widgets/controls",
            "_model_module_version": "1.5.0",
            "_model_name": "HTMLModel",
            "_view_count": null,
            "_view_module": "@jupyter-widgets/controls",
            "_view_module_version": "1.5.0",
            "_view_name": "HTMLView",
            "description": "",
            "description_tooltip": null,
            "layout": "IPY_MODEL_da3bd1daedf44aa2b18c1d8b2c5f1296",
            "placeholder": "​",
            "style": "IPY_MODEL_998ed71bfe044436830818c6f9b46d06",
            "value": "100%"
          }
        },
        "8ce314cfa6684649bb42d0ba06e2c453": {
          "model_module": "@jupyter-widgets/controls",
          "model_name": "FloatProgressModel",
          "model_module_version": "1.5.0",
          "state": {
            "_dom_classes": [],
            "_model_module": "@jupyter-widgets/controls",
            "_model_module_version": "1.5.0",
            "_model_name": "FloatProgressModel",
            "_view_count": null,
            "_view_module": "@jupyter-widgets/controls",
            "_view_module_version": "1.5.0",
            "_view_name": "ProgressView",
            "bar_style": "success",
            "description": "",
            "description_tooltip": null,
            "layout": "IPY_MODEL_5b3184e3841146dd8e56bfe6c00d93b8",
            "max": 30,
            "min": 0,
            "orientation": "horizontal",
            "style": "IPY_MODEL_a2c62d2b98d543a4bdf154fd9e462932",
            "value": 30
          }
        },
        "4d83c69c62e348abab9f354bd5a564c7": {
          "model_module": "@jupyter-widgets/controls",
          "model_name": "HTMLModel",
          "model_module_version": "1.5.0",
          "state": {
            "_dom_classes": [],
            "_model_module": "@jupyter-widgets/controls",
            "_model_module_version": "1.5.0",
            "_model_name": "HTMLModel",
            "_view_count": null,
            "_view_module": "@jupyter-widgets/controls",
            "_view_module_version": "1.5.0",
            "_view_name": "HTMLView",
            "description": "",
            "description_tooltip": null,
            "layout": "IPY_MODEL_8cad74b63c0f43909d7e9da6ef835b0a",
            "placeholder": "​",
            "style": "IPY_MODEL_0bbee1b1c9614fd9b57c7a41980663ac",
            "value": " 30/30 [03:56&lt;00:00,  7.86s/it]"
          }
        },
        "761d16496fc4447482af8b095cbf9eaa": {
          "model_module": "@jupyter-widgets/base",
          "model_name": "LayoutModel",
          "model_module_version": "1.2.0",
          "state": {
            "_model_module": "@jupyter-widgets/base",
            "_model_module_version": "1.2.0",
            "_model_name": "LayoutModel",
            "_view_count": null,
            "_view_module": "@jupyter-widgets/base",
            "_view_module_version": "1.2.0",
            "_view_name": "LayoutView",
            "align_content": null,
            "align_items": null,
            "align_self": null,
            "border": null,
            "bottom": null,
            "display": null,
            "flex": null,
            "flex_flow": null,
            "grid_area": null,
            "grid_auto_columns": null,
            "grid_auto_flow": null,
            "grid_auto_rows": null,
            "grid_column": null,
            "grid_gap": null,
            "grid_row": null,
            "grid_template_areas": null,
            "grid_template_columns": null,
            "grid_template_rows": null,
            "height": null,
            "justify_content": null,
            "justify_items": null,
            "left": null,
            "margin": null,
            "max_height": null,
            "max_width": null,
            "min_height": null,
            "min_width": null,
            "object_fit": null,
            "object_position": null,
            "order": null,
            "overflow": null,
            "overflow_x": null,
            "overflow_y": null,
            "padding": null,
            "right": null,
            "top": null,
            "visibility": null,
            "width": null
          }
        },
        "da3bd1daedf44aa2b18c1d8b2c5f1296": {
          "model_module": "@jupyter-widgets/base",
          "model_name": "LayoutModel",
          "model_module_version": "1.2.0",
          "state": {
            "_model_module": "@jupyter-widgets/base",
            "_model_module_version": "1.2.0",
            "_model_name": "LayoutModel",
            "_view_count": null,
            "_view_module": "@jupyter-widgets/base",
            "_view_module_version": "1.2.0",
            "_view_name": "LayoutView",
            "align_content": null,
            "align_items": null,
            "align_self": null,
            "border": null,
            "bottom": null,
            "display": null,
            "flex": null,
            "flex_flow": null,
            "grid_area": null,
            "grid_auto_columns": null,
            "grid_auto_flow": null,
            "grid_auto_rows": null,
            "grid_column": null,
            "grid_gap": null,
            "grid_row": null,
            "grid_template_areas": null,
            "grid_template_columns": null,
            "grid_template_rows": null,
            "height": null,
            "justify_content": null,
            "justify_items": null,
            "left": null,
            "margin": null,
            "max_height": null,
            "max_width": null,
            "min_height": null,
            "min_width": null,
            "object_fit": null,
            "object_position": null,
            "order": null,
            "overflow": null,
            "overflow_x": null,
            "overflow_y": null,
            "padding": null,
            "right": null,
            "top": null,
            "visibility": null,
            "width": null
          }
        },
        "998ed71bfe044436830818c6f9b46d06": {
          "model_module": "@jupyter-widgets/controls",
          "model_name": "DescriptionStyleModel",
          "model_module_version": "1.5.0",
          "state": {
            "_model_module": "@jupyter-widgets/controls",
            "_model_module_version": "1.5.0",
            "_model_name": "DescriptionStyleModel",
            "_view_count": null,
            "_view_module": "@jupyter-widgets/base",
            "_view_module_version": "1.2.0",
            "_view_name": "StyleView",
            "description_width": ""
          }
        },
        "5b3184e3841146dd8e56bfe6c00d93b8": {
          "model_module": "@jupyter-widgets/base",
          "model_name": "LayoutModel",
          "model_module_version": "1.2.0",
          "state": {
            "_model_module": "@jupyter-widgets/base",
            "_model_module_version": "1.2.0",
            "_model_name": "LayoutModel",
            "_view_count": null,
            "_view_module": "@jupyter-widgets/base",
            "_view_module_version": "1.2.0",
            "_view_name": "LayoutView",
            "align_content": null,
            "align_items": null,
            "align_self": null,
            "border": null,
            "bottom": null,
            "display": null,
            "flex": null,
            "flex_flow": null,
            "grid_area": null,
            "grid_auto_columns": null,
            "grid_auto_flow": null,
            "grid_auto_rows": null,
            "grid_column": null,
            "grid_gap": null,
            "grid_row": null,
            "grid_template_areas": null,
            "grid_template_columns": null,
            "grid_template_rows": null,
            "height": null,
            "justify_content": null,
            "justify_items": null,
            "left": null,
            "margin": null,
            "max_height": null,
            "max_width": null,
            "min_height": null,
            "min_width": null,
            "object_fit": null,
            "object_position": null,
            "order": null,
            "overflow": null,
            "overflow_x": null,
            "overflow_y": null,
            "padding": null,
            "right": null,
            "top": null,
            "visibility": null,
            "width": null
          }
        },
        "a2c62d2b98d543a4bdf154fd9e462932": {
          "model_module": "@jupyter-widgets/controls",
          "model_name": "ProgressStyleModel",
          "model_module_version": "1.5.0",
          "state": {
            "_model_module": "@jupyter-widgets/controls",
            "_model_module_version": "1.5.0",
            "_model_name": "ProgressStyleModel",
            "_view_count": null,
            "_view_module": "@jupyter-widgets/base",
            "_view_module_version": "1.2.0",
            "_view_name": "StyleView",
            "bar_color": null,
            "description_width": ""
          }
        },
        "8cad74b63c0f43909d7e9da6ef835b0a": {
          "model_module": "@jupyter-widgets/base",
          "model_name": "LayoutModel",
          "model_module_version": "1.2.0",
          "state": {
            "_model_module": "@jupyter-widgets/base",
            "_model_module_version": "1.2.0",
            "_model_name": "LayoutModel",
            "_view_count": null,
            "_view_module": "@jupyter-widgets/base",
            "_view_module_version": "1.2.0",
            "_view_name": "LayoutView",
            "align_content": null,
            "align_items": null,
            "align_self": null,
            "border": null,
            "bottom": null,
            "display": null,
            "flex": null,
            "flex_flow": null,
            "grid_area": null,
            "grid_auto_columns": null,
            "grid_auto_flow": null,
            "grid_auto_rows": null,
            "grid_column": null,
            "grid_gap": null,
            "grid_row": null,
            "grid_template_areas": null,
            "grid_template_columns": null,
            "grid_template_rows": null,
            "height": null,
            "justify_content": null,
            "justify_items": null,
            "left": null,
            "margin": null,
            "max_height": null,
            "max_width": null,
            "min_height": null,
            "min_width": null,
            "object_fit": null,
            "object_position": null,
            "order": null,
            "overflow": null,
            "overflow_x": null,
            "overflow_y": null,
            "padding": null,
            "right": null,
            "top": null,
            "visibility": null,
            "width": null
          }
        },
        "0bbee1b1c9614fd9b57c7a41980663ac": {
          "model_module": "@jupyter-widgets/controls",
          "model_name": "DescriptionStyleModel",
          "model_module_version": "1.5.0",
          "state": {
            "_model_module": "@jupyter-widgets/controls",
            "_model_module_version": "1.5.0",
            "_model_name": "DescriptionStyleModel",
            "_view_count": null,
            "_view_module": "@jupyter-widgets/base",
            "_view_module_version": "1.2.0",
            "_view_name": "StyleView",
            "description_width": ""
          }
        }
      }
    }
  },
  "nbformat": 4,
  "nbformat_minor": 0
}